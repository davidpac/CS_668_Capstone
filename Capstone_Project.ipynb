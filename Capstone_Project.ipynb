{
  "nbformat": 4,
  "nbformat_minor": 0,
  "metadata": {
    "colab": {
      "name": "Untitled14.ipynb",
      "provenance": [],
      "collapsed_sections": []
    },
    "kernelspec": {
      "name": "python3",
      "display_name": "Python 3"
    },
    "language_info": {
      "name": "python"
    }
  },
  "cells": [
    {
      "cell_type": "code",
      "metadata": {
        "colab": {
          "base_uri": "https://localhost:8080/"
        },
        "id": "yIpaMcuYqCmm",
        "outputId": "2396b729-5ce8-4871-a08d-b38f5dc109a1"
      },
      "source": [
        "#I have started with importing the  necessary libraries\n",
        "\n",
        "! pip install seaborn\n",
        "import matplotlib.pyplot as plt\n",
        "import seaborn as sns\n",
        "%matplotlib inline\n",
        "from scipy import stats\n",
        "import pandas as pd"
      ],
      "execution_count": null,
      "outputs": [
        {
          "output_type": "stream",
          "text": [
            "Requirement already satisfied: seaborn in /usr/local/lib/python3.7/dist-packages (0.11.1)\n",
            "Requirement already satisfied: scipy>=1.0 in /usr/local/lib/python3.7/dist-packages (from seaborn) (1.4.1)\n",
            "Requirement already satisfied: matplotlib>=2.2 in /usr/local/lib/python3.7/dist-packages (from seaborn) (3.2.2)\n",
            "Requirement already satisfied: pandas>=0.23 in /usr/local/lib/python3.7/dist-packages (from seaborn) (1.1.5)\n",
            "Requirement already satisfied: numpy>=1.15 in /usr/local/lib/python3.7/dist-packages (from seaborn) (1.19.5)\n",
            "Requirement already satisfied: pyparsing!=2.0.4,!=2.1.2,!=2.1.6,>=2.0.1 in /usr/local/lib/python3.7/dist-packages (from matplotlib>=2.2->seaborn) (2.4.7)\n",
            "Requirement already satisfied: kiwisolver>=1.0.1 in /usr/local/lib/python3.7/dist-packages (from matplotlib>=2.2->seaborn) (1.3.1)\n",
            "Requirement already satisfied: python-dateutil>=2.1 in /usr/local/lib/python3.7/dist-packages (from matplotlib>=2.2->seaborn) (2.8.1)\n",
            "Requirement already satisfied: cycler>=0.10 in /usr/local/lib/python3.7/dist-packages (from matplotlib>=2.2->seaborn) (0.10.0)\n",
            "Requirement already satisfied: pytz>=2017.2 in /usr/local/lib/python3.7/dist-packages (from pandas>=0.23->seaborn) (2018.9)\n",
            "Requirement already satisfied: six>=1.5 in /usr/local/lib/python3.7/dist-packages (from python-dateutil>=2.1->matplotlib>=2.2->seaborn) (1.15.0)\n"
          ],
          "name": "stdout"
        }
      ]
    },
    {
      "cell_type": "code",
      "metadata": {
        "colab": {
          "base_uri": "https://localhost:8080/"
        },
        "id": "paEhiRhppvCO",
        "outputId": "51651d89-5074-4d53-cc52-6de0f0e28d61"
      },
      "source": [
        "from google.colab import drive\n",
        "drive.mount('/content/drive')"
      ],
      "execution_count": null,
      "outputs": [
        {
          "output_type": "stream",
          "text": [
            "Drive already mounted at /content/drive; to attempt to forcibly remount, call drive.mount(\"/content/drive\", force_remount=True).\n"
          ],
          "name": "stdout"
        }
      ]
    },
    {
      "cell_type": "code",
      "metadata": {
        "colab": {
          "base_uri": "https://localhost:8080/"
        },
        "id": "4xyzIhJ8p98a",
        "outputId": "f6b911d2-8bdd-4c4f-f233-1393f7cdb68b"
      },
      "source": [
        "df = pd.read_csv(\"/content/google.csv\",sep=\",\", encoding='cp1252')"
      ],
      "execution_count": null,
      "outputs": [
        {
          "output_type": "stream",
          "text": [
            "/usr/local/lib/python3.7/dist-packages/IPython/core/interactiveshell.py:2718: DtypeWarning: Columns (2) have mixed types.Specify dtype option on import or set low_memory=False.\n",
            "  interactivity=interactivity, compiler=compiler, result=result)\n"
          ],
          "name": "stderr"
        }
      ]
    },
    {
      "cell_type": "code",
      "metadata": {
        "colab": {
          "base_uri": "https://localhost:8080/"
        },
        "id": "AcI1dR38EILL",
        "outputId": "16a6f6f8-13d2-435a-e9f8-0eede70bf86a"
      },
      "source": [
        "df.info()"
      ],
      "execution_count": null,
      "outputs": [
        {
          "output_type": "stream",
          "text": [
            "<class 'pandas.core.frame.DataFrame'>\n",
            "RangeIndex: 1048575 entries, 0 to 1048574\n",
            "Data columns (total 31 columns):\n",
            " #   Column             Non-Null Count    Dtype  \n",
            "---  ------             --------------    -----  \n",
            " 0   App Name           1048573 non-null  object \n",
            " 1   Length             1048575 non-null  int64  \n",
            " 2   Words              1048575 non-null  object \n",
            " 3   Space              1048575 non-null  int64  \n",
            " 4   1_10               104364 non-null   float64\n",
            " 5   11_20              332896 non-null   float64\n",
            " 6   21_30              325592 non-null   float64\n",
            " 7   31_40              130303 non-null   float64\n",
            " 8   41_50              155420 non-null   float64\n",
            " 9   App_Id             1048575 non-null  object \n",
            " 10  Category           1048572 non-null  object \n",
            " 11  Rating             1042319 non-null  float64\n",
            " 12  Rating_Count       1042319 non-null  float64\n",
            " 13  Installs           1048424 non-null  object \n",
            " 14  Minimum_Installs   1048424 non-null  float64\n",
            " 15  Maximum_Installs   1048575 non-null  int64  \n",
            " 16  Free               1048575 non-null  bool   \n",
            " 17  Price              1048575 non-null  float64\n",
            " 18  Currency           1048424 non-null  object \n",
            " 19  Size               1048575 non-null  object \n",
            " 20  Minimum_Android    1046713 non-null  object \n",
            " 21  Developer_Id       1048574 non-null  object \n",
            " 22  Developer_Website  660774 non-null   object \n",
            " 23  Developer_Email    1048554 non-null  object \n",
            " 24  Released           1041470 non-null  object \n",
            " 25  Last_Updated       1048575 non-null  object \n",
            " 26  Content_Rating     1048575 non-null  object \n",
            " 27  Privacy_Policy     906730 non-null   object \n",
            " 28  Ad_Supported       1048575 non-null  bool   \n",
            " 29  In_App_Purchases   1048575 non-null  bool   \n",
            " 30  Editors_Choice     1048575 non-null  bool   \n",
            "dtypes: bool(4), float64(9), int64(3), object(15)\n",
            "memory usage: 220.0+ MB\n"
          ],
          "name": "stdout"
        }
      ]
    },
    {
      "cell_type": "code",
      "metadata": {
        "colab": {
          "base_uri": "https://localhost:8080/",
          "height": 407
        },
        "id": "pC_qSxqgr7WV",
        "outputId": "2e9df99e-8fd0-4b14-cefb-b9b66c10bccc"
      },
      "source": [
        "df.head()"
      ],
      "execution_count": null,
      "outputs": [
        {
          "output_type": "execute_result",
          "data": {
            "text/html": [
              "<div>\n",
              "<style scoped>\n",
              "    .dataframe tbody tr th:only-of-type {\n",
              "        vertical-align: middle;\n",
              "    }\n",
              "\n",
              "    .dataframe tbody tr th {\n",
              "        vertical-align: top;\n",
              "    }\n",
              "\n",
              "    .dataframe thead th {\n",
              "        text-align: right;\n",
              "    }\n",
              "</style>\n",
              "<table border=\"1\" class=\"dataframe\">\n",
              "  <thead>\n",
              "    <tr style=\"text-align: right;\">\n",
              "      <th></th>\n",
              "      <th>App Name</th>\n",
              "      <th>Length</th>\n",
              "      <th>Words</th>\n",
              "      <th>Space</th>\n",
              "      <th>1_10</th>\n",
              "      <th>11_20</th>\n",
              "      <th>21_30</th>\n",
              "      <th>31_40</th>\n",
              "      <th>41_50</th>\n",
              "      <th>Bin</th>\n",
              "      <th>App_Id</th>\n",
              "      <th>Category</th>\n",
              "      <th>Rating</th>\n",
              "      <th>Rating_Count</th>\n",
              "      <th>Installs</th>\n",
              "      <th>Minimum_Installs</th>\n",
              "      <th>Maximum_Installs</th>\n",
              "      <th>Free</th>\n",
              "      <th>Price</th>\n",
              "      <th>Currency</th>\n",
              "      <th>Size</th>\n",
              "      <th>Minimum_Android</th>\n",
              "      <th>Developer_Id</th>\n",
              "      <th>Developer_Website</th>\n",
              "      <th>Developer_Email</th>\n",
              "      <th>Released</th>\n",
              "      <th>Last_Updated</th>\n",
              "      <th>Content_Rating</th>\n",
              "      <th>Privacy_Policy</th>\n",
              "      <th>Ad_Supported</th>\n",
              "      <th>In_App_Purchases</th>\n",
              "      <th>Editors_Choice</th>\n",
              "    </tr>\n",
              "  </thead>\n",
              "  <tbody>\n",
              "    <tr>\n",
              "      <th>0</th>\n",
              "      <td>HTTrack Website Copier</td>\n",
              "      <td>22</td>\n",
              "      <td>2</td>\n",
              "      <td>2</td>\n",
              "      <td>NaN</td>\n",
              "      <td>NaN</td>\n",
              "      <td>22.0</td>\n",
              "      <td>NaN</td>\n",
              "      <td>NaN</td>\n",
              "      <td>30</td>\n",
              "      <td>com.httrack.android</td>\n",
              "      <td>Communication</td>\n",
              "      <td>3.6</td>\n",
              "      <td>2848.0</td>\n",
              "      <td>100,000+</td>\n",
              "      <td>100000.0</td>\n",
              "      <td>351560</td>\n",
              "      <td>True</td>\n",
              "      <td>0.0</td>\n",
              "      <td>USD</td>\n",
              "      <td>2.7M</td>\n",
              "      <td>2.3 and up</td>\n",
              "      <td>Xavier Roche</td>\n",
              "      <td>http://www.httrack.com/</td>\n",
              "      <td>roche+android@httrack.com</td>\n",
              "      <td>8/12/2013</td>\n",
              "      <td>5/20/2017</td>\n",
              "      <td>Everyone</td>\n",
              "      <td>http://android.httrack.com/privacy-policy.html</td>\n",
              "      <td>False</td>\n",
              "      <td>False</td>\n",
              "      <td>False</td>\n",
              "    </tr>\n",
              "    <tr>\n",
              "      <th>1</th>\n",
              "      <td>World War 2: Offline Strategy</td>\n",
              "      <td>29</td>\n",
              "      <td>4</td>\n",
              "      <td>4</td>\n",
              "      <td>NaN</td>\n",
              "      <td>NaN</td>\n",
              "      <td>29.0</td>\n",
              "      <td>NaN</td>\n",
              "      <td>NaN</td>\n",
              "      <td>30</td>\n",
              "      <td>com.skizze.wwii</td>\n",
              "      <td>Strategy</td>\n",
              "      <td>4.3</td>\n",
              "      <td>17297.0</td>\n",
              "      <td>1,000,000+</td>\n",
              "      <td>1000000.0</td>\n",
              "      <td>2161778</td>\n",
              "      <td>True</td>\n",
              "      <td>0.0</td>\n",
              "      <td>USD</td>\n",
              "      <td>86M</td>\n",
              "      <td>5.1 and up</td>\n",
              "      <td>Skizze Games</td>\n",
              "      <td>http://stereo7.com/</td>\n",
              "      <td>Skizze.Games@gmail.com</td>\n",
              "      <td>7/19/2018</td>\n",
              "      <td>11/26/2020</td>\n",
              "      <td>Everyone 10+</td>\n",
              "      <td>https://www.iubenda.com/privacy-policy/8032781</td>\n",
              "      <td>True</td>\n",
              "      <td>True</td>\n",
              "      <td>False</td>\n",
              "    </tr>\n",
              "    <tr>\n",
              "      <th>2</th>\n",
              "      <td>WPSApp</td>\n",
              "      <td>6</td>\n",
              "      <td>0</td>\n",
              "      <td>0</td>\n",
              "      <td>6.0</td>\n",
              "      <td>NaN</td>\n",
              "      <td>NaN</td>\n",
              "      <td>NaN</td>\n",
              "      <td>NaN</td>\n",
              "      <td>10</td>\n",
              "      <td>com.themausoft.wpsapp</td>\n",
              "      <td>Tools</td>\n",
              "      <td>4.2</td>\n",
              "      <td>488639.0</td>\n",
              "      <td>50,000,000+</td>\n",
              "      <td>50000000.0</td>\n",
              "      <td>79304739</td>\n",
              "      <td>True</td>\n",
              "      <td>0.0</td>\n",
              "      <td>USD</td>\n",
              "      <td>5.8M</td>\n",
              "      <td>4.1 and up</td>\n",
              "      <td>TheMauSoft</td>\n",
              "      <td>http://www.themausoft.com</td>\n",
              "      <td>wpsapp.app@gmail.com</td>\n",
              "      <td>3/7/2016</td>\n",
              "      <td>10/21/2020</td>\n",
              "      <td>Everyone</td>\n",
              "      <td>https://sites.google.com/view/wpsapppolicy/main</td>\n",
              "      <td>True</td>\n",
              "      <td>False</td>\n",
              "      <td>False</td>\n",
              "    </tr>\n",
              "    <tr>\n",
              "      <th>3</th>\n",
              "      <td>OfficeSuite - Office, PDF, Word, Excel, PowerP...</td>\n",
              "      <td>50</td>\n",
              "      <td>6</td>\n",
              "      <td>6</td>\n",
              "      <td>NaN</td>\n",
              "      <td>NaN</td>\n",
              "      <td>NaN</td>\n",
              "      <td>NaN</td>\n",
              "      <td>50.0</td>\n",
              "      <td>50</td>\n",
              "      <td>com.mobisystems.office</td>\n",
              "      <td>Business</td>\n",
              "      <td>4.2</td>\n",
              "      <td>1224420.0</td>\n",
              "      <td>100,000,000+</td>\n",
              "      <td>100000000.0</td>\n",
              "      <td>163660067</td>\n",
              "      <td>True</td>\n",
              "      <td>0.0</td>\n",
              "      <td>USD</td>\n",
              "      <td>59M</td>\n",
              "      <td>4.4 and up</td>\n",
              "      <td>MobiSystems</td>\n",
              "      <td>http://www.mobisystems.com</td>\n",
              "      <td>support-officesuite-android@mobisystems.com</td>\n",
              "      <td>12/22/2011</td>\n",
              "      <td>11/23/2020</td>\n",
              "      <td>Everyone</td>\n",
              "      <td>http://www.mobisystems.com/mobile/privacy-poli...</td>\n",
              "      <td>True</td>\n",
              "      <td>True</td>\n",
              "      <td>False</td>\n",
              "    </tr>\n",
              "    <tr>\n",
              "      <th>4</th>\n",
              "      <td>Loud Player Free</td>\n",
              "      <td>16</td>\n",
              "      <td>2</td>\n",
              "      <td>2</td>\n",
              "      <td>NaN</td>\n",
              "      <td>16.0</td>\n",
              "      <td>NaN</td>\n",
              "      <td>NaN</td>\n",
              "      <td>NaN</td>\n",
              "      <td>20</td>\n",
              "      <td>com.arthelion.loudplayer</td>\n",
              "      <td>Music &amp; Audio</td>\n",
              "      <td>4.2</td>\n",
              "      <td>665.0</td>\n",
              "      <td>50,000+</td>\n",
              "      <td>50000.0</td>\n",
              "      <td>73463</td>\n",
              "      <td>True</td>\n",
              "      <td>0.0</td>\n",
              "      <td>USD</td>\n",
              "      <td>29M</td>\n",
              "      <td>5.0 and up</td>\n",
              "      <td>Arthelion92</td>\n",
              "      <td>http://www.arthelion.com</td>\n",
              "      <td>arthelion92@gmail.com</td>\n",
              "      <td>9/24/2016</td>\n",
              "      <td>11/22/2020</td>\n",
              "      <td>Everyone</td>\n",
              "      <td>http://www.arthelion.com/index.php/fr/android-...</td>\n",
              "      <td>False</td>\n",
              "      <td>False</td>\n",
              "      <td>False</td>\n",
              "    </tr>\n",
              "  </tbody>\n",
              "</table>\n",
              "</div>"
            ],
            "text/plain": [
              "                                            App Name  ...  Editors_Choice\n",
              "0                             HTTrack Website Copier  ...           False\n",
              "1                      World War 2: Offline Strategy  ...           False\n",
              "2                                             WPSApp  ...           False\n",
              "3  OfficeSuite - Office, PDF, Word, Excel, PowerP...  ...           False\n",
              "4                                   Loud Player Free  ...           False\n",
              "\n",
              "[5 rows x 32 columns]"
            ]
          },
          "metadata": {
            "tags": []
          },
          "execution_count": 74
        }
      ]
    },
    {
      "cell_type": "code",
      "metadata": {
        "colab": {
          "base_uri": "https://localhost:8080/",
          "height": 311
        },
        "id": "oSC3aqQvEuXd",
        "outputId": "833bbb31-6839-42a9-95c4-c8f73ce1fe2d"
      },
      "source": [
        "df.describe()"
      ],
      "execution_count": null,
      "outputs": [
        {
          "output_type": "execute_result",
          "data": {
            "text/html": [
              "<div>\n",
              "<style scoped>\n",
              "    .dataframe tbody tr th:only-of-type {\n",
              "        vertical-align: middle;\n",
              "    }\n",
              "\n",
              "    .dataframe tbody tr th {\n",
              "        vertical-align: top;\n",
              "    }\n",
              "\n",
              "    .dataframe thead th {\n",
              "        text-align: right;\n",
              "    }\n",
              "</style>\n",
              "<table border=\"1\" class=\"dataframe\">\n",
              "  <thead>\n",
              "    <tr style=\"text-align: right;\">\n",
              "      <th></th>\n",
              "      <th>Length</th>\n",
              "      <th>Space</th>\n",
              "      <th>1_10</th>\n",
              "      <th>11_20</th>\n",
              "      <th>21_30</th>\n",
              "      <th>31_40</th>\n",
              "      <th>41_50</th>\n",
              "      <th>Rating</th>\n",
              "      <th>Rating_Count</th>\n",
              "      <th>Minimum_Installs</th>\n",
              "      <th>Maximum_Installs</th>\n",
              "      <th>Price</th>\n",
              "    </tr>\n",
              "  </thead>\n",
              "  <tbody>\n",
              "    <tr>\n",
              "      <th>count</th>\n",
              "      <td>1.048575e+06</td>\n",
              "      <td>1.048575e+06</td>\n",
              "      <td>104364.000000</td>\n",
              "      <td>332896.000000</td>\n",
              "      <td>325592.000000</td>\n",
              "      <td>130303.000000</td>\n",
              "      <td>155420.000000</td>\n",
              "      <td>1.042319e+06</td>\n",
              "      <td>1.042319e+06</td>\n",
              "      <td>1.048424e+06</td>\n",
              "      <td>1.048575e+06</td>\n",
              "      <td>1.048575e+06</td>\n",
              "    </tr>\n",
              "    <tr>\n",
              "      <th>mean</th>\n",
              "      <td>2.490829e+01</td>\n",
              "      <td>3.088316e+00</td>\n",
              "      <td>7.867090</td>\n",
              "      <td>15.615526</td>\n",
              "      <td>25.510375</td>\n",
              "      <td>35.170595</td>\n",
              "      <td>46.390555</td>\n",
              "      <td>2.529061e+00</td>\n",
              "      <td>5.480669e+03</td>\n",
              "      <td>3.329930e+05</td>\n",
              "      <td>5.779526e+05</td>\n",
              "      <td>2.064553e-01</td>\n",
              "    </tr>\n",
              "    <tr>\n",
              "      <th>std</th>\n",
              "      <td>1.207378e+01</td>\n",
              "      <td>2.175892e+00</td>\n",
              "      <td>1.928484</td>\n",
              "      <td>2.840673</td>\n",
              "      <td>2.898293</td>\n",
              "      <td>2.880434</td>\n",
              "      <td>2.943246</td>\n",
              "      <td>2.045292e+00</td>\n",
              "      <td>2.812709e+05</td>\n",
              "      <td>2.110605e+07</td>\n",
              "      <td>3.129902e+07</td>\n",
              "      <td>3.416506e+00</td>\n",
              "    </tr>\n",
              "    <tr>\n",
              "      <th>min</th>\n",
              "      <td>1.000000e+00</td>\n",
              "      <td>0.000000e+00</td>\n",
              "      <td>1.000000</td>\n",
              "      <td>11.000000</td>\n",
              "      <td>21.000000</td>\n",
              "      <td>31.000000</td>\n",
              "      <td>41.000000</td>\n",
              "      <td>0.000000e+00</td>\n",
              "      <td>0.000000e+00</td>\n",
              "      <td>0.000000e+00</td>\n",
              "      <td>0.000000e+00</td>\n",
              "      <td>0.000000e+00</td>\n",
              "    </tr>\n",
              "    <tr>\n",
              "      <th>25%</th>\n",
              "      <td>1.500000e+01</td>\n",
              "      <td>1.000000e+00</td>\n",
              "      <td>7.000000</td>\n",
              "      <td>13.000000</td>\n",
              "      <td>23.000000</td>\n",
              "      <td>33.000000</td>\n",
              "      <td>44.000000</td>\n",
              "      <td>0.000000e+00</td>\n",
              "      <td>0.000000e+00</td>\n",
              "      <td>1.000000e+02</td>\n",
              "      <td>1.760000e+02</td>\n",
              "      <td>0.000000e+00</td>\n",
              "    </tr>\n",
              "    <tr>\n",
              "      <th>50%</th>\n",
              "      <td>2.300000e+01</td>\n",
              "      <td>3.000000e+00</td>\n",
              "      <td>8.000000</td>\n",
              "      <td>16.000000</td>\n",
              "      <td>25.000000</td>\n",
              "      <td>35.000000</td>\n",
              "      <td>47.000000</td>\n",
              "      <td>3.600000e+00</td>\n",
              "      <td>1.200000e+01</td>\n",
              "      <td>1.000000e+03</td>\n",
              "      <td>1.909000e+03</td>\n",
              "      <td>0.000000e+00</td>\n",
              "    </tr>\n",
              "    <tr>\n",
              "      <th>75%</th>\n",
              "      <td>3.200000e+01</td>\n",
              "      <td>4.000000e+00</td>\n",
              "      <td>10.000000</td>\n",
              "      <td>18.000000</td>\n",
              "      <td>28.000000</td>\n",
              "      <td>38.000000</td>\n",
              "      <td>49.000000</td>\n",
              "      <td>4.300000e+00</td>\n",
              "      <td>1.100000e+02</td>\n",
              "      <td>1.000000e+04</td>\n",
              "      <td>2.101700e+04</td>\n",
              "      <td>0.000000e+00</td>\n",
              "    </tr>\n",
              "    <tr>\n",
              "      <th>max</th>\n",
              "      <td>5.000000e+01</td>\n",
              "      <td>1.500000e+01</td>\n",
              "      <td>10.000000</td>\n",
              "      <td>20.000000</td>\n",
              "      <td>30.000000</td>\n",
              "      <td>40.000000</td>\n",
              "      <td>50.000000</td>\n",
              "      <td>5.000000e+00</td>\n",
              "      <td>1.253808e+08</td>\n",
              "      <td>1.000000e+10</td>\n",
              "      <td>1.077270e+10</td>\n",
              "      <td>4.000000e+02</td>\n",
              "    </tr>\n",
              "  </tbody>\n",
              "</table>\n",
              "</div>"
            ],
            "text/plain": [
              "             Length         Space  ...  Maximum_Installs         Price\n",
              "count  1.048575e+06  1.048575e+06  ...      1.048575e+06  1.048575e+06\n",
              "mean   2.490829e+01  3.088316e+00  ...      5.779526e+05  2.064553e-01\n",
              "std    1.207378e+01  2.175892e+00  ...      3.129902e+07  3.416506e+00\n",
              "min    1.000000e+00  0.000000e+00  ...      0.000000e+00  0.000000e+00\n",
              "25%    1.500000e+01  1.000000e+00  ...      1.760000e+02  0.000000e+00\n",
              "50%    2.300000e+01  3.000000e+00  ...      1.909000e+03  0.000000e+00\n",
              "75%    3.200000e+01  4.000000e+00  ...      2.101700e+04  0.000000e+00\n",
              "max    5.000000e+01  1.500000e+01  ...      1.077270e+10  4.000000e+02\n",
              "\n",
              "[8 rows x 12 columns]"
            ]
          },
          "metadata": {
            "tags": []
          },
          "execution_count": 56
        }
      ]
    },
    {
      "cell_type": "code",
      "metadata": {
        "colab": {
          "base_uri": "https://localhost:8080/",
          "height": 584
        },
        "id": "bnsmEV7r-sug",
        "outputId": "1b3e9cae-618d-48a2-fca5-800e00b467c9"
      },
      "source": [
        "df.corr()"
      ],
      "execution_count": null,
      "outputs": [
        {
          "output_type": "execute_result",
          "data": {
            "text/html": [
              "<div>\n",
              "<style scoped>\n",
              "    .dataframe tbody tr th:only-of-type {\n",
              "        vertical-align: middle;\n",
              "    }\n",
              "\n",
              "    .dataframe tbody tr th {\n",
              "        vertical-align: top;\n",
              "    }\n",
              "\n",
              "    .dataframe thead th {\n",
              "        text-align: right;\n",
              "    }\n",
              "</style>\n",
              "<table border=\"1\" class=\"dataframe\">\n",
              "  <thead>\n",
              "    <tr style=\"text-align: right;\">\n",
              "      <th></th>\n",
              "      <th>Length</th>\n",
              "      <th>Space</th>\n",
              "      <th>1_10</th>\n",
              "      <th>11_20</th>\n",
              "      <th>21_30</th>\n",
              "      <th>31_40</th>\n",
              "      <th>41_50</th>\n",
              "      <th>Bin</th>\n",
              "      <th>Rating</th>\n",
              "      <th>Rating_Count</th>\n",
              "      <th>Minimum_Installs</th>\n",
              "      <th>Maximum_Installs</th>\n",
              "      <th>Free</th>\n",
              "      <th>Price</th>\n",
              "      <th>Ad_Supported</th>\n",
              "      <th>In_App_Purchases</th>\n",
              "      <th>Editors_Choice</th>\n",
              "    </tr>\n",
              "  </thead>\n",
              "  <tbody>\n",
              "    <tr>\n",
              "      <th>Length</th>\n",
              "      <td>1.000000</td>\n",
              "      <td>0.910925</td>\n",
              "      <td>1.000000</td>\n",
              "      <td>1.000000</td>\n",
              "      <td>1.000000</td>\n",
              "      <td>1.000000</td>\n",
              "      <td>1.000000</td>\n",
              "      <td>0.970867</td>\n",
              "      <td>0.078030</td>\n",
              "      <td>-0.000201</td>\n",
              "      <td>-0.001344</td>\n",
              "      <td>-0.001012</td>\n",
              "      <td>0.002392</td>\n",
              "      <td>0.003612</td>\n",
              "      <td>0.288785</td>\n",
              "      <td>0.099481</td>\n",
              "      <td>0.004670</td>\n",
              "    </tr>\n",
              "    <tr>\n",
              "      <th>Space</th>\n",
              "      <td>0.910925</td>\n",
              "      <td>1.000000</td>\n",
              "      <td>0.486717</td>\n",
              "      <td>0.551399</td>\n",
              "      <td>0.461615</td>\n",
              "      <td>0.417919</td>\n",
              "      <td>0.296056</td>\n",
              "      <td>0.886479</td>\n",
              "      <td>0.082320</td>\n",
              "      <td>0.001090</td>\n",
              "      <td>-0.000779</td>\n",
              "      <td>-0.000231</td>\n",
              "      <td>0.003460</td>\n",
              "      <td>-0.000141</td>\n",
              "      <td>0.292850</td>\n",
              "      <td>0.097828</td>\n",
              "      <td>0.005525</td>\n",
              "    </tr>\n",
              "    <tr>\n",
              "      <th>1_10</th>\n",
              "      <td>1.000000</td>\n",
              "      <td>0.486717</td>\n",
              "      <td>1.000000</td>\n",
              "      <td>NaN</td>\n",
              "      <td>NaN</td>\n",
              "      <td>NaN</td>\n",
              "      <td>NaN</td>\n",
              "      <td>NaN</td>\n",
              "      <td>0.013102</td>\n",
              "      <td>-0.000690</td>\n",
              "      <td>-0.004985</td>\n",
              "      <td>-0.004297</td>\n",
              "      <td>-0.015033</td>\n",
              "      <td>0.008558</td>\n",
              "      <td>0.088809</td>\n",
              "      <td>0.018956</td>\n",
              "      <td>-0.007438</td>\n",
              "    </tr>\n",
              "    <tr>\n",
              "      <th>11_20</th>\n",
              "      <td>1.000000</td>\n",
              "      <td>0.551399</td>\n",
              "      <td>NaN</td>\n",
              "      <td>1.000000</td>\n",
              "      <td>NaN</td>\n",
              "      <td>NaN</td>\n",
              "      <td>NaN</td>\n",
              "      <td>NaN</td>\n",
              "      <td>-0.001852</td>\n",
              "      <td>-0.003137</td>\n",
              "      <td>-0.000144</td>\n",
              "      <td>-0.000962</td>\n",
              "      <td>-0.020626</td>\n",
              "      <td>0.002752</td>\n",
              "      <td>0.133220</td>\n",
              "      <td>-0.017027</td>\n",
              "      <td>-0.003754</td>\n",
              "    </tr>\n",
              "    <tr>\n",
              "      <th>21_30</th>\n",
              "      <td>1.000000</td>\n",
              "      <td>0.461615</td>\n",
              "      <td>NaN</td>\n",
              "      <td>NaN</td>\n",
              "      <td>1.000000</td>\n",
              "      <td>NaN</td>\n",
              "      <td>NaN</td>\n",
              "      <td>NaN</td>\n",
              "      <td>0.066489</td>\n",
              "      <td>0.005394</td>\n",
              "      <td>0.001799</td>\n",
              "      <td>0.001737</td>\n",
              "      <td>-0.034938</td>\n",
              "      <td>0.015851</td>\n",
              "      <td>0.024643</td>\n",
              "      <td>0.054260</td>\n",
              "      <td>0.009456</td>\n",
              "    </tr>\n",
              "    <tr>\n",
              "      <th>31_40</th>\n",
              "      <td>1.000000</td>\n",
              "      <td>0.417919</td>\n",
              "      <td>NaN</td>\n",
              "      <td>NaN</td>\n",
              "      <td>NaN</td>\n",
              "      <td>1.000000</td>\n",
              "      <td>NaN</td>\n",
              "      <td>NaN</td>\n",
              "      <td>0.023592</td>\n",
              "      <td>0.006170</td>\n",
              "      <td>0.005696</td>\n",
              "      <td>0.007233</td>\n",
              "      <td>0.001052</td>\n",
              "      <td>-0.002538</td>\n",
              "      <td>0.016120</td>\n",
              "      <td>0.030225</td>\n",
              "      <td>-0.002385</td>\n",
              "    </tr>\n",
              "    <tr>\n",
              "      <th>41_50</th>\n",
              "      <td>1.000000</td>\n",
              "      <td>0.296056</td>\n",
              "      <td>NaN</td>\n",
              "      <td>NaN</td>\n",
              "      <td>NaN</td>\n",
              "      <td>NaN</td>\n",
              "      <td>1.000000</td>\n",
              "      <td>NaN</td>\n",
              "      <td>0.056713</td>\n",
              "      <td>0.012051</td>\n",
              "      <td>0.012524</td>\n",
              "      <td>0.012223</td>\n",
              "      <td>-0.003250</td>\n",
              "      <td>-0.000122</td>\n",
              "      <td>-0.003840</td>\n",
              "      <td>0.065242</td>\n",
              "      <td>0.004441</td>\n",
              "    </tr>\n",
              "    <tr>\n",
              "      <th>Bin</th>\n",
              "      <td>0.970867</td>\n",
              "      <td>0.886479</td>\n",
              "      <td>NaN</td>\n",
              "      <td>NaN</td>\n",
              "      <td>NaN</td>\n",
              "      <td>NaN</td>\n",
              "      <td>NaN</td>\n",
              "      <td>1.000000</td>\n",
              "      <td>0.071374</td>\n",
              "      <td>-0.000969</td>\n",
              "      <td>-0.001900</td>\n",
              "      <td>-0.001640</td>\n",
              "      <td>0.005640</td>\n",
              "      <td>0.002518</td>\n",
              "      <td>0.288792</td>\n",
              "      <td>0.093096</td>\n",
              "      <td>0.004092</td>\n",
              "    </tr>\n",
              "    <tr>\n",
              "      <th>Rating</th>\n",
              "      <td>0.078030</td>\n",
              "      <td>0.082320</td>\n",
              "      <td>0.013102</td>\n",
              "      <td>-0.001852</td>\n",
              "      <td>0.066489</td>\n",
              "      <td>0.023592</td>\n",
              "      <td>0.056713</td>\n",
              "      <td>0.071374</td>\n",
              "      <td>1.000000</td>\n",
              "      <td>0.016826</td>\n",
              "      <td>0.012815</td>\n",
              "      <td>0.015046</td>\n",
              "      <td>0.033948</td>\n",
              "      <td>-0.018809</td>\n",
              "      <td>0.089374</td>\n",
              "      <td>0.187465</td>\n",
              "      <td>0.023562</td>\n",
              "    </tr>\n",
              "    <tr>\n",
              "      <th>Rating_Count</th>\n",
              "      <td>-0.000201</td>\n",
              "      <td>0.001090</td>\n",
              "      <td>-0.000690</td>\n",
              "      <td>-0.003137</td>\n",
              "      <td>0.005394</td>\n",
              "      <td>0.006170</td>\n",
              "      <td>0.012051</td>\n",
              "      <td>-0.000969</td>\n",
              "      <td>0.016826</td>\n",
              "      <td>1.000000</td>\n",
              "      <td>0.513593</td>\n",
              "      <td>0.559151</td>\n",
              "      <td>0.003569</td>\n",
              "      <td>-0.001042</td>\n",
              "      <td>0.002202</td>\n",
              "      <td>0.032938</td>\n",
              "      <td>0.150448</td>\n",
              "    </tr>\n",
              "    <tr>\n",
              "      <th>Minimum_Installs</th>\n",
              "      <td>-0.001344</td>\n",
              "      <td>-0.000779</td>\n",
              "      <td>-0.004985</td>\n",
              "      <td>-0.000144</td>\n",
              "      <td>0.001799</td>\n",
              "      <td>0.005696</td>\n",
              "      <td>0.012524</td>\n",
              "      <td>-0.001900</td>\n",
              "      <td>0.012815</td>\n",
              "      <td>0.513593</td>\n",
              "      <td>1.000000</td>\n",
              "      <td>0.946755</td>\n",
              "      <td>0.003241</td>\n",
              "      <td>-0.000937</td>\n",
              "      <td>-0.001690</td>\n",
              "      <td>0.014966</td>\n",
              "      <td>0.055988</td>\n",
              "    </tr>\n",
              "    <tr>\n",
              "      <th>Maximum_Installs</th>\n",
              "      <td>-0.001012</td>\n",
              "      <td>-0.000231</td>\n",
              "      <td>-0.004297</td>\n",
              "      <td>-0.000962</td>\n",
              "      <td>0.001737</td>\n",
              "      <td>0.007233</td>\n",
              "      <td>0.012223</td>\n",
              "      <td>-0.001640</td>\n",
              "      <td>0.015046</td>\n",
              "      <td>0.559151</td>\n",
              "      <td>0.946755</td>\n",
              "      <td>1.000000</td>\n",
              "      <td>0.003793</td>\n",
              "      <td>-0.001095</td>\n",
              "      <td>-0.001731</td>\n",
              "      <td>0.018104</td>\n",
              "      <td>0.067021</td>\n",
              "    </tr>\n",
              "    <tr>\n",
              "      <th>Free</th>\n",
              "      <td>0.002392</td>\n",
              "      <td>0.003460</td>\n",
              "      <td>-0.015033</td>\n",
              "      <td>-0.020626</td>\n",
              "      <td>-0.034938</td>\n",
              "      <td>0.001052</td>\n",
              "      <td>-0.003250</td>\n",
              "      <td>0.005640</td>\n",
              "      <td>0.033948</td>\n",
              "      <td>0.003569</td>\n",
              "      <td>0.003241</td>\n",
              "      <td>0.003793</td>\n",
              "      <td>1.000000</td>\n",
              "      <td>-0.286368</td>\n",
              "      <td>0.261959</td>\n",
              "      <td>0.031607</td>\n",
              "      <td>-0.000212</td>\n",
              "    </tr>\n",
              "    <tr>\n",
              "      <th>Price</th>\n",
              "      <td>0.003612</td>\n",
              "      <td>-0.000141</td>\n",
              "      <td>0.008558</td>\n",
              "      <td>0.002752</td>\n",
              "      <td>0.015851</td>\n",
              "      <td>-0.002538</td>\n",
              "      <td>-0.000122</td>\n",
              "      <td>0.002518</td>\n",
              "      <td>-0.018809</td>\n",
              "      <td>-0.001042</td>\n",
              "      <td>-0.000937</td>\n",
              "      <td>-0.001095</td>\n",
              "      <td>-0.286368</td>\n",
              "      <td>1.000000</td>\n",
              "      <td>-0.075741</td>\n",
              "      <td>-0.009896</td>\n",
              "      <td>-0.000418</td>\n",
              "    </tr>\n",
              "    <tr>\n",
              "      <th>Ad_Supported</th>\n",
              "      <td>0.288785</td>\n",
              "      <td>0.292850</td>\n",
              "      <td>0.088809</td>\n",
              "      <td>0.133220</td>\n",
              "      <td>0.024643</td>\n",
              "      <td>0.016120</td>\n",
              "      <td>-0.003840</td>\n",
              "      <td>0.288792</td>\n",
              "      <td>0.089374</td>\n",
              "      <td>0.002202</td>\n",
              "      <td>-0.001690</td>\n",
              "      <td>-0.001731</td>\n",
              "      <td>0.261959</td>\n",
              "      <td>-0.075741</td>\n",
              "      <td>1.000000</td>\n",
              "      <td>0.080614</td>\n",
              "      <td>-0.000158</td>\n",
              "    </tr>\n",
              "    <tr>\n",
              "      <th>In_App_Purchases</th>\n",
              "      <td>0.099481</td>\n",
              "      <td>0.097828</td>\n",
              "      <td>0.018956</td>\n",
              "      <td>-0.017027</td>\n",
              "      <td>0.054260</td>\n",
              "      <td>0.030225</td>\n",
              "      <td>0.065242</td>\n",
              "      <td>0.093096</td>\n",
              "      <td>0.187465</td>\n",
              "      <td>0.032938</td>\n",
              "      <td>0.014966</td>\n",
              "      <td>0.018104</td>\n",
              "      <td>0.031607</td>\n",
              "      <td>-0.009896</td>\n",
              "      <td>0.080614</td>\n",
              "      <td>1.000000</td>\n",
              "      <td>0.058141</td>\n",
              "    </tr>\n",
              "    <tr>\n",
              "      <th>Editors_Choice</th>\n",
              "      <td>0.004670</td>\n",
              "      <td>0.005525</td>\n",
              "      <td>-0.007438</td>\n",
              "      <td>-0.003754</td>\n",
              "      <td>0.009456</td>\n",
              "      <td>-0.002385</td>\n",
              "      <td>0.004441</td>\n",
              "      <td>0.004092</td>\n",
              "      <td>0.023562</td>\n",
              "      <td>0.150448</td>\n",
              "      <td>0.055988</td>\n",
              "      <td>0.067021</td>\n",
              "      <td>-0.000212</td>\n",
              "      <td>-0.000418</td>\n",
              "      <td>-0.000158</td>\n",
              "      <td>0.058141</td>\n",
              "      <td>1.000000</td>\n",
              "    </tr>\n",
              "  </tbody>\n",
              "</table>\n",
              "</div>"
            ],
            "text/plain": [
              "                    Length     Space  ...  In_App_Purchases  Editors_Choice\n",
              "Length            1.000000  0.910925  ...          0.099481        0.004670\n",
              "Space             0.910925  1.000000  ...          0.097828        0.005525\n",
              "1_10              1.000000  0.486717  ...          0.018956       -0.007438\n",
              "11_20             1.000000  0.551399  ...         -0.017027       -0.003754\n",
              "21_30             1.000000  0.461615  ...          0.054260        0.009456\n",
              "31_40             1.000000  0.417919  ...          0.030225       -0.002385\n",
              "41_50             1.000000  0.296056  ...          0.065242        0.004441\n",
              "Bin               0.970867  0.886479  ...          0.093096        0.004092\n",
              "Rating            0.078030  0.082320  ...          0.187465        0.023562\n",
              "Rating_Count     -0.000201  0.001090  ...          0.032938        0.150448\n",
              "Minimum_Installs -0.001344 -0.000779  ...          0.014966        0.055988\n",
              "Maximum_Installs -0.001012 -0.000231  ...          0.018104        0.067021\n",
              "Free              0.002392  0.003460  ...          0.031607       -0.000212\n",
              "Price             0.003612 -0.000141  ...         -0.009896       -0.000418\n",
              "Ad_Supported      0.288785  0.292850  ...          0.080614       -0.000158\n",
              "In_App_Purchases  0.099481  0.097828  ...          1.000000        0.058141\n",
              "Editors_Choice    0.004670  0.005525  ...          0.058141        1.000000\n",
              "\n",
              "[17 rows x 17 columns]"
            ]
          },
          "metadata": {
            "tags": []
          },
          "execution_count": 75
        }
      ]
    },
    {
      "cell_type": "code",
      "metadata": {
        "id": "aoX4xwhAgnAI"
      },
      "source": [
        ""
      ],
      "execution_count": null,
      "outputs": []
    },
    {
      "cell_type": "code",
      "metadata": {
        "colab": {
          "base_uri": "https://localhost:8080/"
        },
        "id": "kVNSP671r-BO",
        "outputId": "65a307ab-ead2-4386-bbc1-eba8f92e5c64"
      },
      "source": [
        "df.dtypes"
      ],
      "execution_count": null,
      "outputs": [
        {
          "output_type": "execute_result",
          "data": {
            "text/plain": [
              "App Name              object\n",
              "Length                 int64\n",
              "Words                 object\n",
              "Space                  int64\n",
              "1_19                 float64\n",
              "20_41                float64\n",
              "42_50                float64\n",
              "App_Id                object\n",
              "Category              object\n",
              "Rating               float64\n",
              "Rating_Count         float64\n",
              "Installs              object\n",
              "Minimum_Installs     float64\n",
              "Maximum_Installs     float64\n",
              "Free                  object\n",
              "Price                float64\n",
              "Currency              object\n",
              "Size                  object\n",
              "Minimum_Android       object\n",
              "Developer_Id          object\n",
              "Developer_Website     object\n",
              "Developer_Email       object\n",
              "Released              object\n",
              "Last_Updated          object\n",
              "Content_Rating        object\n",
              "Privacy_Policy        object\n",
              "Ad_Supported          object\n",
              "In_App_Purchases      object\n",
              "Editors_Choice        object\n",
              "dtype: object"
            ]
          },
          "metadata": {
            "tags": []
          },
          "execution_count": 36
        }
      ]
    },
    {
      "cell_type": "code",
      "metadata": {
        "colab": {
          "base_uri": "https://localhost:8080/",
          "height": 453
        },
        "id": "NIkA6rbLr_23",
        "outputId": "e265af4c-7768-4421-b564-275025d1e5c6"
      },
      "source": [
        "df.describe(include='all')"
      ],
      "execution_count": null,
      "outputs": [
        {
          "output_type": "execute_result",
          "data": {
            "text/html": [
              "<div>\n",
              "<style scoped>\n",
              "    .dataframe tbody tr th:only-of-type {\n",
              "        vertical-align: middle;\n",
              "    }\n",
              "\n",
              "    .dataframe tbody tr th {\n",
              "        vertical-align: top;\n",
              "    }\n",
              "\n",
              "    .dataframe thead th {\n",
              "        text-align: right;\n",
              "    }\n",
              "</style>\n",
              "<table border=\"1\" class=\"dataframe\">\n",
              "  <thead>\n",
              "    <tr style=\"text-align: right;\">\n",
              "      <th></th>\n",
              "      <th>App Name</th>\n",
              "      <th>Length</th>\n",
              "      <th>Words</th>\n",
              "      <th>Space</th>\n",
              "      <th>1_10</th>\n",
              "      <th>11_20</th>\n",
              "      <th>21_30</th>\n",
              "      <th>31_40</th>\n",
              "      <th>41_50</th>\n",
              "      <th>App_Id</th>\n",
              "      <th>Category</th>\n",
              "      <th>Rating</th>\n",
              "      <th>Rating_Count</th>\n",
              "      <th>Installs</th>\n",
              "      <th>Minimum_Installs</th>\n",
              "      <th>Maximum_Installs</th>\n",
              "      <th>Free</th>\n",
              "      <th>Price</th>\n",
              "      <th>Currency</th>\n",
              "      <th>Size</th>\n",
              "      <th>Minimum_Android</th>\n",
              "      <th>Developer_Id</th>\n",
              "      <th>Developer_Website</th>\n",
              "      <th>Developer_Email</th>\n",
              "      <th>Released</th>\n",
              "      <th>Last_Updated</th>\n",
              "      <th>Content_Rating</th>\n",
              "      <th>Privacy_Policy</th>\n",
              "      <th>Ad_Supported</th>\n",
              "      <th>In_App_Purchases</th>\n",
              "      <th>Editors_Choice</th>\n",
              "    </tr>\n",
              "  </thead>\n",
              "  <tbody>\n",
              "    <tr>\n",
              "      <th>count</th>\n",
              "      <td>715362</td>\n",
              "      <td>715363.000000</td>\n",
              "      <td>715363</td>\n",
              "      <td>715363.000000</td>\n",
              "      <td>69148.000000</td>\n",
              "      <td>221141.000000</td>\n",
              "      <td>222008.000000</td>\n",
              "      <td>89112.000000</td>\n",
              "      <td>113954.000000</td>\n",
              "      <td>715363</td>\n",
              "      <td>715360</td>\n",
              "      <td>710795.000000</td>\n",
              "      <td>7.107950e+05</td>\n",
              "      <td>715230</td>\n",
              "      <td>7.152300e+05</td>\n",
              "      <td>7.153630e+05</td>\n",
              "      <td>715363</td>\n",
              "      <td>715363.000000</td>\n",
              "      <td>715230</td>\n",
              "      <td>715363</td>\n",
              "      <td>714067</td>\n",
              "      <td>715361</td>\n",
              "      <td>469663</td>\n",
              "      <td>715344</td>\n",
              "      <td>710052</td>\n",
              "      <td>715362</td>\n",
              "      <td>715362</td>\n",
              "      <td>628194</td>\n",
              "      <td>715362</td>\n",
              "      <td>715362</td>\n",
              "      <td>715362</td>\n",
              "    </tr>\n",
              "    <tr>\n",
              "      <th>unique</th>\n",
              "      <td>675434</td>\n",
              "      <td>NaN</td>\n",
              "      <td>30</td>\n",
              "      <td>NaN</td>\n",
              "      <td>NaN</td>\n",
              "      <td>NaN</td>\n",
              "      <td>NaN</td>\n",
              "      <td>NaN</td>\n",
              "      <td>NaN</td>\n",
              "      <td>715363</td>\n",
              "      <td>47</td>\n",
              "      <td>NaN</td>\n",
              "      <td>NaN</td>\n",
              "      <td>22</td>\n",
              "      <td>NaN</td>\n",
              "      <td>NaN</td>\n",
              "      <td>2</td>\n",
              "      <td>NaN</td>\n",
              "      <td>53</td>\n",
              "      <td>1465</td>\n",
              "      <td>107</td>\n",
              "      <td>101718</td>\n",
              "      <td>165818</td>\n",
              "      <td>163406</td>\n",
              "      <td>3957</td>\n",
              "      <td>3628</td>\n",
              "      <td>6</td>\n",
              "      <td>241281</td>\n",
              "      <td>2</td>\n",
              "      <td>2</td>\n",
              "      <td>2</td>\n",
              "    </tr>\n",
              "    <tr>\n",
              "      <th>top</th>\n",
              "      <td>Solitaire</td>\n",
              "      <td>NaN</td>\n",
              "      <td>2</td>\n",
              "      <td>NaN</td>\n",
              "      <td>NaN</td>\n",
              "      <td>NaN</td>\n",
              "      <td>NaN</td>\n",
              "      <td>NaN</td>\n",
              "      <td>NaN</td>\n",
              "      <td>com.medialoha.android.discountcalculator</td>\n",
              "      <td>Education</td>\n",
              "      <td>NaN</td>\n",
              "      <td>NaN</td>\n",
              "      <td>1,000+</td>\n",
              "      <td>NaN</td>\n",
              "      <td>NaN</td>\n",
              "      <td>True</td>\n",
              "      <td>NaN</td>\n",
              "      <td>USD</td>\n",
              "      <td>Varies with device</td>\n",
              "      <td>4.1 and up</td>\n",
              "      <td>Softecks</td>\n",
              "      <td>http://www.apusapps.com</td>\n",
              "      <td>support@classplus.co</td>\n",
              "      <td>6/16/2020</td>\n",
              "      <td>11/24/2020</td>\n",
              "      <td>Everyone</td>\n",
              "      <td>http://www.cmcm.com/protocol/launcher-theme/pr...</td>\n",
              "      <td>True</td>\n",
              "      <td>False</td>\n",
              "      <td>False</td>\n",
              "    </tr>\n",
              "    <tr>\n",
              "      <th>freq</th>\n",
              "      <td>102</td>\n",
              "      <td>NaN</td>\n",
              "      <td>87439</td>\n",
              "      <td>NaN</td>\n",
              "      <td>NaN</td>\n",
              "      <td>NaN</td>\n",
              "      <td>NaN</td>\n",
              "      <td>NaN</td>\n",
              "      <td>NaN</td>\n",
              "      <td>1</td>\n",
              "      <td>78251</td>\n",
              "      <td>NaN</td>\n",
              "      <td>NaN</td>\n",
              "      <td>125371</td>\n",
              "      <td>NaN</td>\n",
              "      <td>NaN</td>\n",
              "      <td>681477</td>\n",
              "      <td>NaN</td>\n",
              "      <td>692285</td>\n",
              "      <td>28311</td>\n",
              "      <td>221974</td>\n",
              "      <td>322</td>\n",
              "      <td>416</td>\n",
              "      <td>928</td>\n",
              "      <td>726</td>\n",
              "      <td>4756</td>\n",
              "      <td>613464</td>\n",
              "      <td>1191</td>\n",
              "      <td>474519</td>\n",
              "      <td>614860</td>\n",
              "      <td>714632</td>\n",
              "    </tr>\n",
              "    <tr>\n",
              "      <th>mean</th>\n",
              "      <td>NaN</td>\n",
              "      <td>25.308326</td>\n",
              "      <td>NaN</td>\n",
              "      <td>3.155120</td>\n",
              "      <td>7.849063</td>\n",
              "      <td>15.625791</td>\n",
              "      <td>25.558804</td>\n",
              "      <td>35.220408</td>\n",
              "      <td>46.453569</td>\n",
              "      <td>NaN</td>\n",
              "      <td>NaN</td>\n",
              "      <td>2.714749</td>\n",
              "      <td>7.837767e+03</td>\n",
              "      <td>NaN</td>\n",
              "      <td>4.734635e+05</td>\n",
              "      <td>8.213119e+05</td>\n",
              "      <td>NaN</td>\n",
              "      <td>0.237839</td>\n",
              "      <td>NaN</td>\n",
              "      <td>NaN</td>\n",
              "      <td>NaN</td>\n",
              "      <td>NaN</td>\n",
              "      <td>NaN</td>\n",
              "      <td>NaN</td>\n",
              "      <td>NaN</td>\n",
              "      <td>NaN</td>\n",
              "      <td>NaN</td>\n",
              "      <td>NaN</td>\n",
              "      <td>NaN</td>\n",
              "      <td>NaN</td>\n",
              "      <td>NaN</td>\n",
              "    </tr>\n",
              "    <tr>\n",
              "      <th>std</th>\n",
              "      <td>NaN</td>\n",
              "      <td>12.239212</td>\n",
              "      <td>NaN</td>\n",
              "      <td>2.202043</td>\n",
              "      <td>1.933638</td>\n",
              "      <td>2.842425</td>\n",
              "      <td>2.900094</td>\n",
              "      <td>2.881818</td>\n",
              "      <td>2.927740</td>\n",
              "      <td>NaN</td>\n",
              "      <td>NaN</td>\n",
              "      <td>1.993685</td>\n",
              "      <td>3.405407e+05</td>\n",
              "      <td>NaN</td>\n",
              "      <td>2.555126e+07</td>\n",
              "      <td>3.788925e+07</td>\n",
              "      <td>NaN</td>\n",
              "      <td>3.684237</td>\n",
              "      <td>NaN</td>\n",
              "      <td>NaN</td>\n",
              "      <td>NaN</td>\n",
              "      <td>NaN</td>\n",
              "      <td>NaN</td>\n",
              "      <td>NaN</td>\n",
              "      <td>NaN</td>\n",
              "      <td>NaN</td>\n",
              "      <td>NaN</td>\n",
              "      <td>NaN</td>\n",
              "      <td>NaN</td>\n",
              "      <td>NaN</td>\n",
              "      <td>NaN</td>\n",
              "    </tr>\n",
              "    <tr>\n",
              "      <th>min</th>\n",
              "      <td>NaN</td>\n",
              "      <td>1.000000</td>\n",
              "      <td>NaN</td>\n",
              "      <td>0.000000</td>\n",
              "      <td>1.000000</td>\n",
              "      <td>11.000000</td>\n",
              "      <td>21.000000</td>\n",
              "      <td>31.000000</td>\n",
              "      <td>41.000000</td>\n",
              "      <td>NaN</td>\n",
              "      <td>NaN</td>\n",
              "      <td>0.000000</td>\n",
              "      <td>0.000000e+00</td>\n",
              "      <td>NaN</td>\n",
              "      <td>0.000000e+00</td>\n",
              "      <td>0.000000e+00</td>\n",
              "      <td>NaN</td>\n",
              "      <td>0.000000</td>\n",
              "      <td>NaN</td>\n",
              "      <td>NaN</td>\n",
              "      <td>NaN</td>\n",
              "      <td>NaN</td>\n",
              "      <td>NaN</td>\n",
              "      <td>NaN</td>\n",
              "      <td>NaN</td>\n",
              "      <td>NaN</td>\n",
              "      <td>NaN</td>\n",
              "      <td>NaN</td>\n",
              "      <td>NaN</td>\n",
              "      <td>NaN</td>\n",
              "      <td>NaN</td>\n",
              "    </tr>\n",
              "    <tr>\n",
              "      <th>25%</th>\n",
              "      <td>NaN</td>\n",
              "      <td>16.000000</td>\n",
              "      <td>NaN</td>\n",
              "      <td>1.000000</td>\n",
              "      <td>7.000000</td>\n",
              "      <td>13.000000</td>\n",
              "      <td>23.000000</td>\n",
              "      <td>33.000000</td>\n",
              "      <td>44.000000</td>\n",
              "      <td>NaN</td>\n",
              "      <td>NaN</td>\n",
              "      <td>0.000000</td>\n",
              "      <td>0.000000e+00</td>\n",
              "      <td>NaN</td>\n",
              "      <td>1.000000e+02</td>\n",
              "      <td>2.710000e+02</td>\n",
              "      <td>NaN</td>\n",
              "      <td>0.000000</td>\n",
              "      <td>NaN</td>\n",
              "      <td>NaN</td>\n",
              "      <td>NaN</td>\n",
              "      <td>NaN</td>\n",
              "      <td>NaN</td>\n",
              "      <td>NaN</td>\n",
              "      <td>NaN</td>\n",
              "      <td>NaN</td>\n",
              "      <td>NaN</td>\n",
              "      <td>NaN</td>\n",
              "      <td>NaN</td>\n",
              "      <td>NaN</td>\n",
              "      <td>NaN</td>\n",
              "    </tr>\n",
              "    <tr>\n",
              "      <th>50%</th>\n",
              "      <td>NaN</td>\n",
              "      <td>24.000000</td>\n",
              "      <td>NaN</td>\n",
              "      <td>3.000000</td>\n",
              "      <td>8.000000</td>\n",
              "      <td>16.000000</td>\n",
              "      <td>26.000000</td>\n",
              "      <td>35.000000</td>\n",
              "      <td>47.000000</td>\n",
              "      <td>NaN</td>\n",
              "      <td>NaN</td>\n",
              "      <td>3.800000</td>\n",
              "      <td>1.800000e+01</td>\n",
              "      <td>NaN</td>\n",
              "      <td>1.000000e+03</td>\n",
              "      <td>3.075000e+03</td>\n",
              "      <td>NaN</td>\n",
              "      <td>0.000000</td>\n",
              "      <td>NaN</td>\n",
              "      <td>NaN</td>\n",
              "      <td>NaN</td>\n",
              "      <td>NaN</td>\n",
              "      <td>NaN</td>\n",
              "      <td>NaN</td>\n",
              "      <td>NaN</td>\n",
              "      <td>NaN</td>\n",
              "      <td>NaN</td>\n",
              "      <td>NaN</td>\n",
              "      <td>NaN</td>\n",
              "      <td>NaN</td>\n",
              "      <td>NaN</td>\n",
              "    </tr>\n",
              "    <tr>\n",
              "      <th>75%</th>\n",
              "      <td>NaN</td>\n",
              "      <td>33.000000</td>\n",
              "      <td>NaN</td>\n",
              "      <td>5.000000</td>\n",
              "      <td>9.000000</td>\n",
              "      <td>18.000000</td>\n",
              "      <td>28.000000</td>\n",
              "      <td>38.000000</td>\n",
              "      <td>49.000000</td>\n",
              "      <td>NaN</td>\n",
              "      <td>NaN</td>\n",
              "      <td>4.400000</td>\n",
              "      <td>1.850000e+02</td>\n",
              "      <td>NaN</td>\n",
              "      <td>1.000000e+04</td>\n",
              "      <td>3.404700e+04</td>\n",
              "      <td>NaN</td>\n",
              "      <td>0.000000</td>\n",
              "      <td>NaN</td>\n",
              "      <td>NaN</td>\n",
              "      <td>NaN</td>\n",
              "      <td>NaN</td>\n",
              "      <td>NaN</td>\n",
              "      <td>NaN</td>\n",
              "      <td>NaN</td>\n",
              "      <td>NaN</td>\n",
              "      <td>NaN</td>\n",
              "      <td>NaN</td>\n",
              "      <td>NaN</td>\n",
              "      <td>NaN</td>\n",
              "      <td>NaN</td>\n",
              "    </tr>\n",
              "    <tr>\n",
              "      <th>max</th>\n",
              "      <td>NaN</td>\n",
              "      <td>50.000000</td>\n",
              "      <td>NaN</td>\n",
              "      <td>15.000000</td>\n",
              "      <td>10.000000</td>\n",
              "      <td>20.000000</td>\n",
              "      <td>30.000000</td>\n",
              "      <td>40.000000</td>\n",
              "      <td>50.000000</td>\n",
              "      <td>NaN</td>\n",
              "      <td>NaN</td>\n",
              "      <td>5.000000</td>\n",
              "      <td>1.253808e+08</td>\n",
              "      <td>NaN</td>\n",
              "      <td>1.000000e+10</td>\n",
              "      <td>1.077270e+10</td>\n",
              "      <td>NaN</td>\n",
              "      <td>400.000000</td>\n",
              "      <td>NaN</td>\n",
              "      <td>NaN</td>\n",
              "      <td>NaN</td>\n",
              "      <td>NaN</td>\n",
              "      <td>NaN</td>\n",
              "      <td>NaN</td>\n",
              "      <td>NaN</td>\n",
              "      <td>NaN</td>\n",
              "      <td>NaN</td>\n",
              "      <td>NaN</td>\n",
              "      <td>NaN</td>\n",
              "      <td>NaN</td>\n",
              "      <td>NaN</td>\n",
              "    </tr>\n",
              "  </tbody>\n",
              "</table>\n",
              "</div>"
            ],
            "text/plain": [
              "         App Name         Length  ... In_App_Purchases  Editors_Choice\n",
              "count      715362  715363.000000  ...           715362          715362\n",
              "unique     675434            NaN  ...                2               2\n",
              "top     Solitaire            NaN  ...            False           False\n",
              "freq          102            NaN  ...           614860          714632\n",
              "mean          NaN      25.308326  ...              NaN             NaN\n",
              "std           NaN      12.239212  ...              NaN             NaN\n",
              "min           NaN       1.000000  ...              NaN             NaN\n",
              "25%           NaN      16.000000  ...              NaN             NaN\n",
              "50%           NaN      24.000000  ...              NaN             NaN\n",
              "75%           NaN      33.000000  ...              NaN             NaN\n",
              "max           NaN      50.000000  ...              NaN             NaN\n",
              "\n",
              "[11 rows x 31 columns]"
            ]
          },
          "metadata": {
            "tags": []
          },
          "execution_count": 6
        }
      ]
    },
    {
      "cell_type": "code",
      "metadata": {
        "colab": {
          "base_uri": "https://localhost:8080/"
        },
        "id": "86KBTs-FsLiq",
        "outputId": "0df122b5-c553-404d-a4f2-a1f80366e269"
      },
      "source": [
        "df.info()"
      ],
      "execution_count": null,
      "outputs": [
        {
          "output_type": "stream",
          "text": [
            "<class 'pandas.core.frame.DataFrame'>\n",
            "RangeIndex: 117730 entries, 0 to 117729\n",
            "Data columns (total 29 columns):\n",
            " #   Column             Non-Null Count   Dtype  \n",
            "---  ------             --------------   -----  \n",
            " 0   App Name           117730 non-null  object \n",
            " 1   Length             117730 non-null  int64  \n",
            " 2   Words              117730 non-null  object \n",
            " 3   Space              117730 non-null  int64  \n",
            " 4   1_19               48738 non-null   float64\n",
            " 5   20_41              52987 non-null   float64\n",
            " 6   42_50              16005 non-null   float64\n",
            " 7   App_Id             117730 non-null  object \n",
            " 8   Category           117729 non-null  object \n",
            " 9   Rating             116509 non-null  float64\n",
            " 10  Rating_Count       116509 non-null  float64\n",
            " 11  Installs           117649 non-null  object \n",
            " 12  Minimum_Installs   117649 non-null  float64\n",
            " 13  Maximum_Installs   117729 non-null  float64\n",
            " 14  Free               117729 non-null  object \n",
            " 15  Price              117729 non-null  float64\n",
            " 16  Currency           117649 non-null  object \n",
            " 17  Size               117729 non-null  object \n",
            " 18  Minimum_Android    117474 non-null  object \n",
            " 19  Developer_Id       117729 non-null  object \n",
            " 20  Developer_Website  95712 non-null   object \n",
            " 21  Developer_Email    117724 non-null  object \n",
            " 22  Released           116329 non-null  object \n",
            " 23  Last_Updated       117729 non-null  object \n",
            " 24  Content_Rating     117729 non-null  object \n",
            " 25  Privacy_Policy     104011 non-null  object \n",
            " 26  Ad_Supported       117729 non-null  object \n",
            " 27  In_App_Purchases   117729 non-null  object \n",
            " 28  Editors_Choice     117729 non-null  object \n",
            "dtypes: float64(8), int64(2), object(19)\n",
            "memory usage: 26.0+ MB\n"
          ],
          "name": "stdout"
        }
      ]
    },
    {
      "cell_type": "code",
      "metadata": {
        "colab": {
          "base_uri": "https://localhost:8080/"
        },
        "id": "J9JqnZVJsO3-",
        "outputId": "48d24013-fe80-4c9c-b5f9-b6d5a993a924"
      },
      "source": [
        "df.isnull().sum()"
      ],
      "execution_count": null,
      "outputs": [
        {
          "output_type": "execute_result",
          "data": {
            "text/plain": [
              "App Name                  0\n",
              "Length                    0\n",
              "Words                     0\n",
              "Space                     0\n",
              "1_19                  68992\n",
              "20_41                 64743\n",
              "42_50                101725\n",
              "App_Id                    0\n",
              "Category                  1\n",
              "Rating                 1221\n",
              "Rating_Count           1221\n",
              "Installs                 81\n",
              "Minimum_Installs         81\n",
              "Maximum_Installs          1\n",
              "Free                      1\n",
              "Price                     1\n",
              "Currency                 81\n",
              "Size                      1\n",
              "Minimum_Android         256\n",
              "Developer_Id              1\n",
              "Developer_Website     22018\n",
              "Developer_Email           6\n",
              "Released               1401\n",
              "Last_Updated              1\n",
              "Content_Rating            1\n",
              "Privacy_Policy        13719\n",
              "Ad_Supported              1\n",
              "In_App_Purchases          1\n",
              "Editors_Choice            1\n",
              "dtype: int64"
            ]
          },
          "metadata": {
            "tags": []
          },
          "execution_count": 39
        }
      ]
    },
    {
      "cell_type": "code",
      "metadata": {
        "colab": {
          "base_uri": "https://localhost:8080/"
        },
        "id": "Q-lgwmSpsQ0X",
        "outputId": "dfdd6b53-8bbd-4ba7-82d8-0d714382ef52"
      },
      "source": [
        "missing_data = df.isnull()\n",
        "for column in missing_data.columns.values.tolist():\n",
        "    print(column)\n",
        "    print (missing_data[column].value_counts())\n",
        "    print(\"\")   \n"
      ],
      "execution_count": null,
      "outputs": [
        {
          "output_type": "stream",
          "text": [
            "App Name\n",
            "False    117730\n",
            "Name: App Name, dtype: int64\n",
            "\n",
            "Length\n",
            "False    117730\n",
            "Name: Length, dtype: int64\n",
            "\n",
            "Words\n",
            "False    117730\n",
            "Name: Words, dtype: int64\n",
            "\n",
            "Space\n",
            "False    117730\n",
            "Name: Space, dtype: int64\n",
            "\n",
            "1_19\n",
            "True     68992\n",
            "False    48738\n",
            "Name: 1_19, dtype: int64\n",
            "\n",
            "20_41\n",
            "True     64743\n",
            "False    52987\n",
            "Name: 20_41, dtype: int64\n",
            "\n",
            "42_50\n",
            "True     101725\n",
            "False     16005\n",
            "Name: 42_50, dtype: int64\n",
            "\n",
            "App_Id\n",
            "False    117730\n",
            "Name: App_Id, dtype: int64\n",
            "\n",
            "Category\n",
            "False    117729\n",
            "True          1\n",
            "Name: Category, dtype: int64\n",
            "\n",
            "Rating\n",
            "False    116509\n",
            "True       1221\n",
            "Name: Rating, dtype: int64\n",
            "\n",
            "Rating_Count\n",
            "False    116509\n",
            "True       1221\n",
            "Name: Rating_Count, dtype: int64\n",
            "\n",
            "Installs\n",
            "False    117649\n",
            "True         81\n",
            "Name: Installs, dtype: int64\n",
            "\n",
            "Minimum_Installs\n",
            "False    117649\n",
            "True         81\n",
            "Name: Minimum_Installs, dtype: int64\n",
            "\n",
            "Maximum_Installs\n",
            "False    117729\n",
            "True          1\n",
            "Name: Maximum_Installs, dtype: int64\n",
            "\n",
            "Free\n",
            "False    117729\n",
            "True          1\n",
            "Name: Free, dtype: int64\n",
            "\n",
            "Price\n",
            "False    117729\n",
            "True          1\n",
            "Name: Price, dtype: int64\n",
            "\n",
            "Currency\n",
            "False    117649\n",
            "True         81\n",
            "Name: Currency, dtype: int64\n",
            "\n",
            "Size\n",
            "False    117729\n",
            "True          1\n",
            "Name: Size, dtype: int64\n",
            "\n",
            "Minimum_Android\n",
            "False    117474\n",
            "True        256\n",
            "Name: Minimum_Android, dtype: int64\n",
            "\n",
            "Developer_Id\n",
            "False    117729\n",
            "True          1\n",
            "Name: Developer_Id, dtype: int64\n",
            "\n",
            "Developer_Website\n",
            "False    95712\n",
            "True     22018\n",
            "Name: Developer_Website, dtype: int64\n",
            "\n",
            "Developer_Email\n",
            "False    117724\n",
            "True          6\n",
            "Name: Developer_Email, dtype: int64\n",
            "\n",
            "Released\n",
            "False    116329\n",
            "True       1401\n",
            "Name: Released, dtype: int64\n",
            "\n",
            "Last_Updated\n",
            "False    117729\n",
            "True          1\n",
            "Name: Last_Updated, dtype: int64\n",
            "\n",
            "Content_Rating\n",
            "False    117729\n",
            "True          1\n",
            "Name: Content_Rating, dtype: int64\n",
            "\n",
            "Privacy_Policy\n",
            "False    104011\n",
            "True      13719\n",
            "Name: Privacy_Policy, dtype: int64\n",
            "\n",
            "Ad_Supported\n",
            "False    117729\n",
            "True          1\n",
            "Name: Ad_Supported, dtype: int64\n",
            "\n",
            "In_App_Purchases\n",
            "False    117729\n",
            "True          1\n",
            "Name: In_App_Purchases, dtype: int64\n",
            "\n",
            "Editors_Choice\n",
            "False    117729\n",
            "True          1\n",
            "Name: Editors_Choice, dtype: int64\n",
            "\n"
          ],
          "name": "stdout"
        }
      ]
    },
    {
      "cell_type": "code",
      "metadata": {
        "colab": {
          "base_uri": "https://localhost:8080/",
          "height": 241
        },
        "id": "ZCmdhPrzsjD5",
        "outputId": "e99099fa-77f6-4ed3-82eb-f154393ab9ff"
      },
      "source": [
        "df.describe(include=['object'])"
      ],
      "execution_count": null,
      "outputs": [
        {
          "output_type": "execute_result",
          "data": {
            "text/html": [
              "<div>\n",
              "<style scoped>\n",
              "    .dataframe tbody tr th:only-of-type {\n",
              "        vertical-align: middle;\n",
              "    }\n",
              "\n",
              "    .dataframe tbody tr th {\n",
              "        vertical-align: top;\n",
              "    }\n",
              "\n",
              "    .dataframe thead th {\n",
              "        text-align: right;\n",
              "    }\n",
              "</style>\n",
              "<table border=\"1\" class=\"dataframe\">\n",
              "  <thead>\n",
              "    <tr style=\"text-align: right;\">\n",
              "      <th></th>\n",
              "      <th>App Name</th>\n",
              "      <th>Words</th>\n",
              "      <th>App_Id</th>\n",
              "      <th>Category</th>\n",
              "      <th>Installs</th>\n",
              "      <th>Currency</th>\n",
              "      <th>Size</th>\n",
              "      <th>Minimum_Android</th>\n",
              "      <th>Developer_Id</th>\n",
              "      <th>Developer_Website</th>\n",
              "      <th>Developer_Email</th>\n",
              "      <th>Released</th>\n",
              "      <th>Last_Updated</th>\n",
              "      <th>Content_Rating</th>\n",
              "      <th>Privacy_Policy</th>\n",
              "    </tr>\n",
              "  </thead>\n",
              "  <tbody>\n",
              "    <tr>\n",
              "      <th>count</th>\n",
              "      <td>1048573</td>\n",
              "      <td>1048575</td>\n",
              "      <td>1048575</td>\n",
              "      <td>1048572</td>\n",
              "      <td>1048424</td>\n",
              "      <td>1048424</td>\n",
              "      <td>1048575</td>\n",
              "      <td>1046713</td>\n",
              "      <td>1048574</td>\n",
              "      <td>660774</td>\n",
              "      <td>1048554</td>\n",
              "      <td>1041470</td>\n",
              "      <td>1048575</td>\n",
              "      <td>1048575</td>\n",
              "      <td>906730</td>\n",
              "    </tr>\n",
              "    <tr>\n",
              "      <th>unique</th>\n",
              "      <td>982269</td>\n",
              "      <td>32</td>\n",
              "      <td>1048575</td>\n",
              "      <td>47</td>\n",
              "      <td>22</td>\n",
              "      <td>54</td>\n",
              "      <td>1477</td>\n",
              "      <td>137</td>\n",
              "      <td>152328</td>\n",
              "      <td>238139</td>\n",
              "      <td>241478</td>\n",
              "      <td>3962</td>\n",
              "      <td>3695</td>\n",
              "      <td>6</td>\n",
              "      <td>353417</td>\n",
              "    </tr>\n",
              "    <tr>\n",
              "      <th>top</th>\n",
              "      <td>Tic Tac Toe</td>\n",
              "      <td>2</td>\n",
              "      <td>com.historysofthebibles</td>\n",
              "      <td>Education</td>\n",
              "      <td>1,000+</td>\n",
              "      <td>USD</td>\n",
              "      <td>Varies with device</td>\n",
              "      <td>4.1 and up</td>\n",
              "      <td>Subsplash Inc</td>\n",
              "      <td>http://www.subsplash.com/</td>\n",
              "      <td>support@classplus.co</td>\n",
              "      <td>10/13/2020</td>\n",
              "      <td>11/24/2020</td>\n",
              "      <td>Everyone</td>\n",
              "      <td>http://www.cmcm.com/protocol/launcher-theme/pr...</td>\n",
              "    </tr>\n",
              "    <tr>\n",
              "      <th>freq</th>\n",
              "      <td>136</td>\n",
              "      <td>124645</td>\n",
              "      <td>1</td>\n",
              "      <td>118155</td>\n",
              "      <td>186555</td>\n",
              "      <td>1010125</td>\n",
              "      <td>35426</td>\n",
              "      <td>322942</td>\n",
              "      <td>446</td>\n",
              "      <td>622</td>\n",
              "      <td>1457</td>\n",
              "      <td>1096</td>\n",
              "      <td>6298</td>\n",
              "      <td>906544</td>\n",
              "      <td>1795</td>\n",
              "    </tr>\n",
              "  </tbody>\n",
              "</table>\n",
              "</div>"
            ],
            "text/plain": [
              "           App Name  ...                                     Privacy_Policy\n",
              "count       1048573  ...                                             906730\n",
              "unique       982269  ...                                             353417\n",
              "top     Tic Tac Toe  ...  http://www.cmcm.com/protocol/launcher-theme/pr...\n",
              "freq            136  ...                                               1795\n",
              "\n",
              "[4 rows x 15 columns]"
            ]
          },
          "metadata": {
            "tags": []
          },
          "execution_count": 41
        }
      ]
    },
    {
      "cell_type": "code",
      "metadata": {
        "id": "qdH_EduJ9Coa"
      },
      "source": [
        "df.dropna()"
      ],
      "execution_count": null,
      "outputs": []
    },
    {
      "cell_type": "code",
      "metadata": {
        "colab": {
          "base_uri": "https://localhost:8080/",
          "height": 493
        },
        "id": "46E8D0IxtHOR",
        "outputId": "40e3ed18-c798-44a8-db42-9066fa924596"
      },
      "source": [
        "df.corr()"
      ],
      "execution_count": null,
      "outputs": [
        {
          "output_type": "execute_result",
          "data": {
            "text/html": [
              "<div>\n",
              "<style scoped>\n",
              "    .dataframe tbody tr th:only-of-type {\n",
              "        vertical-align: middle;\n",
              "    }\n",
              "\n",
              "    .dataframe tbody tr th {\n",
              "        vertical-align: top;\n",
              "    }\n",
              "\n",
              "    .dataframe thead th {\n",
              "        text-align: right;\n",
              "    }\n",
              "</style>\n",
              "<table border=\"1\" class=\"dataframe\">\n",
              "  <thead>\n",
              "    <tr style=\"text-align: right;\">\n",
              "      <th></th>\n",
              "      <th>Length</th>\n",
              "      <th>Space</th>\n",
              "      <th>1_19</th>\n",
              "      <th>20_41</th>\n",
              "      <th>42_50</th>\n",
              "      <th>Rating</th>\n",
              "      <th>Rating_Count</th>\n",
              "      <th>Minimum_Installs</th>\n",
              "      <th>Maximum_Installs</th>\n",
              "      <th>Free</th>\n",
              "      <th>Price</th>\n",
              "      <th>Ad_Supported</th>\n",
              "      <th>In_App_Purchases</th>\n",
              "      <th>Editors_Choice</th>\n",
              "    </tr>\n",
              "  </thead>\n",
              "  <tbody>\n",
              "    <tr>\n",
              "      <th>Length</th>\n",
              "      <td>1.000000</td>\n",
              "      <td>0.910925</td>\n",
              "      <td>1.000000</td>\n",
              "      <td>1.000000</td>\n",
              "      <td>1.000000</td>\n",
              "      <td>0.078030</td>\n",
              "      <td>-0.000201</td>\n",
              "      <td>-0.001344</td>\n",
              "      <td>-0.001012</td>\n",
              "      <td>0.002392</td>\n",
              "      <td>0.003612</td>\n",
              "      <td>0.288785</td>\n",
              "      <td>0.099481</td>\n",
              "      <td>0.004670</td>\n",
              "    </tr>\n",
              "    <tr>\n",
              "      <th>Space</th>\n",
              "      <td>0.910925</td>\n",
              "      <td>1.000000</td>\n",
              "      <td>0.701838</td>\n",
              "      <td>0.733146</td>\n",
              "      <td>0.258682</td>\n",
              "      <td>0.082320</td>\n",
              "      <td>0.001090</td>\n",
              "      <td>-0.000779</td>\n",
              "      <td>-0.000231</td>\n",
              "      <td>0.003460</td>\n",
              "      <td>-0.000141</td>\n",
              "      <td>0.292850</td>\n",
              "      <td>0.097828</td>\n",
              "      <td>0.005525</td>\n",
              "    </tr>\n",
              "    <tr>\n",
              "      <th>1_19</th>\n",
              "      <td>1.000000</td>\n",
              "      <td>0.701838</td>\n",
              "      <td>1.000000</td>\n",
              "      <td>NaN</td>\n",
              "      <td>NaN</td>\n",
              "      <td>-0.000156</td>\n",
              "      <td>-0.005127</td>\n",
              "      <td>-0.005069</td>\n",
              "      <td>-0.005649</td>\n",
              "      <td>-0.031835</td>\n",
              "      <td>0.005453</td>\n",
              "      <td>0.215968</td>\n",
              "      <td>-0.003302</td>\n",
              "      <td>-0.006482</td>\n",
              "    </tr>\n",
              "    <tr>\n",
              "      <th>20_41</th>\n",
              "      <td>1.000000</td>\n",
              "      <td>0.733146</td>\n",
              "      <td>NaN</td>\n",
              "      <td>1.000000</td>\n",
              "      <td>NaN</td>\n",
              "      <td>0.029125</td>\n",
              "      <td>0.001865</td>\n",
              "      <td>-0.001344</td>\n",
              "      <td>-0.000910</td>\n",
              "      <td>0.027144</td>\n",
              "      <td>-0.002446</td>\n",
              "      <td>0.124964</td>\n",
              "      <td>0.053137</td>\n",
              "      <td>0.004907</td>\n",
              "    </tr>\n",
              "    <tr>\n",
              "      <th>42_50</th>\n",
              "      <td>1.000000</td>\n",
              "      <td>0.258682</td>\n",
              "      <td>NaN</td>\n",
              "      <td>NaN</td>\n",
              "      <td>1.000000</td>\n",
              "      <td>0.052902</td>\n",
              "      <td>0.010733</td>\n",
              "      <td>0.010724</td>\n",
              "      <td>0.010229</td>\n",
              "      <td>-0.002377</td>\n",
              "      <td>0.001503</td>\n",
              "      <td>-0.004316</td>\n",
              "      <td>0.060336</td>\n",
              "      <td>0.005974</td>\n",
              "    </tr>\n",
              "    <tr>\n",
              "      <th>Rating</th>\n",
              "      <td>0.078030</td>\n",
              "      <td>0.082320</td>\n",
              "      <td>-0.000156</td>\n",
              "      <td>0.029125</td>\n",
              "      <td>0.052902</td>\n",
              "      <td>1.000000</td>\n",
              "      <td>0.016826</td>\n",
              "      <td>0.012815</td>\n",
              "      <td>0.015046</td>\n",
              "      <td>0.033948</td>\n",
              "      <td>-0.018809</td>\n",
              "      <td>0.089374</td>\n",
              "      <td>0.187465</td>\n",
              "      <td>0.023562</td>\n",
              "    </tr>\n",
              "    <tr>\n",
              "      <th>Rating_Count</th>\n",
              "      <td>-0.000201</td>\n",
              "      <td>0.001090</td>\n",
              "      <td>-0.005127</td>\n",
              "      <td>0.001865</td>\n",
              "      <td>0.010733</td>\n",
              "      <td>0.016826</td>\n",
              "      <td>1.000000</td>\n",
              "      <td>0.513593</td>\n",
              "      <td>0.559151</td>\n",
              "      <td>0.003569</td>\n",
              "      <td>-0.001042</td>\n",
              "      <td>0.002202</td>\n",
              "      <td>0.032938</td>\n",
              "      <td>0.150448</td>\n",
              "    </tr>\n",
              "    <tr>\n",
              "      <th>Minimum_Installs</th>\n",
              "      <td>-0.001344</td>\n",
              "      <td>-0.000779</td>\n",
              "      <td>-0.005069</td>\n",
              "      <td>-0.001344</td>\n",
              "      <td>0.010724</td>\n",
              "      <td>0.012815</td>\n",
              "      <td>0.513593</td>\n",
              "      <td>1.000000</td>\n",
              "      <td>0.946755</td>\n",
              "      <td>0.003241</td>\n",
              "      <td>-0.000937</td>\n",
              "      <td>-0.001690</td>\n",
              "      <td>0.014966</td>\n",
              "      <td>0.055988</td>\n",
              "    </tr>\n",
              "    <tr>\n",
              "      <th>Maximum_Installs</th>\n",
              "      <td>-0.001012</td>\n",
              "      <td>-0.000231</td>\n",
              "      <td>-0.005649</td>\n",
              "      <td>-0.000910</td>\n",
              "      <td>0.010229</td>\n",
              "      <td>0.015046</td>\n",
              "      <td>0.559151</td>\n",
              "      <td>0.946755</td>\n",
              "      <td>1.000000</td>\n",
              "      <td>0.003793</td>\n",
              "      <td>-0.001095</td>\n",
              "      <td>-0.001731</td>\n",
              "      <td>0.018104</td>\n",
              "      <td>0.067021</td>\n",
              "    </tr>\n",
              "    <tr>\n",
              "      <th>Free</th>\n",
              "      <td>0.002392</td>\n",
              "      <td>0.003460</td>\n",
              "      <td>-0.031835</td>\n",
              "      <td>0.027144</td>\n",
              "      <td>-0.002377</td>\n",
              "      <td>0.033948</td>\n",
              "      <td>0.003569</td>\n",
              "      <td>0.003241</td>\n",
              "      <td>0.003793</td>\n",
              "      <td>1.000000</td>\n",
              "      <td>-0.286368</td>\n",
              "      <td>0.261959</td>\n",
              "      <td>0.031607</td>\n",
              "      <td>-0.000212</td>\n",
              "    </tr>\n",
              "    <tr>\n",
              "      <th>Price</th>\n",
              "      <td>0.003612</td>\n",
              "      <td>-0.000141</td>\n",
              "      <td>0.005453</td>\n",
              "      <td>-0.002446</td>\n",
              "      <td>0.001503</td>\n",
              "      <td>-0.018809</td>\n",
              "      <td>-0.001042</td>\n",
              "      <td>-0.000937</td>\n",
              "      <td>-0.001095</td>\n",
              "      <td>-0.286368</td>\n",
              "      <td>1.000000</td>\n",
              "      <td>-0.075741</td>\n",
              "      <td>-0.009896</td>\n",
              "      <td>-0.000418</td>\n",
              "    </tr>\n",
              "    <tr>\n",
              "      <th>Ad_Supported</th>\n",
              "      <td>0.288785</td>\n",
              "      <td>0.292850</td>\n",
              "      <td>0.215968</td>\n",
              "      <td>0.124964</td>\n",
              "      <td>-0.004316</td>\n",
              "      <td>0.089374</td>\n",
              "      <td>0.002202</td>\n",
              "      <td>-0.001690</td>\n",
              "      <td>-0.001731</td>\n",
              "      <td>0.261959</td>\n",
              "      <td>-0.075741</td>\n",
              "      <td>1.000000</td>\n",
              "      <td>0.080614</td>\n",
              "      <td>-0.000158</td>\n",
              "    </tr>\n",
              "    <tr>\n",
              "      <th>In_App_Purchases</th>\n",
              "      <td>0.099481</td>\n",
              "      <td>0.097828</td>\n",
              "      <td>-0.003302</td>\n",
              "      <td>0.053137</td>\n",
              "      <td>0.060336</td>\n",
              "      <td>0.187465</td>\n",
              "      <td>0.032938</td>\n",
              "      <td>0.014966</td>\n",
              "      <td>0.018104</td>\n",
              "      <td>0.031607</td>\n",
              "      <td>-0.009896</td>\n",
              "      <td>0.080614</td>\n",
              "      <td>1.000000</td>\n",
              "      <td>0.058141</td>\n",
              "    </tr>\n",
              "    <tr>\n",
              "      <th>Editors_Choice</th>\n",
              "      <td>0.004670</td>\n",
              "      <td>0.005525</td>\n",
              "      <td>-0.006482</td>\n",
              "      <td>0.004907</td>\n",
              "      <td>0.005974</td>\n",
              "      <td>0.023562</td>\n",
              "      <td>0.150448</td>\n",
              "      <td>0.055988</td>\n",
              "      <td>0.067021</td>\n",
              "      <td>-0.000212</td>\n",
              "      <td>-0.000418</td>\n",
              "      <td>-0.000158</td>\n",
              "      <td>0.058141</td>\n",
              "      <td>1.000000</td>\n",
              "    </tr>\n",
              "  </tbody>\n",
              "</table>\n",
              "</div>"
            ],
            "text/plain": [
              "                    Length     Space  ...  In_App_Purchases  Editors_Choice\n",
              "Length            1.000000  0.910925  ...          0.099481        0.004670\n",
              "Space             0.910925  1.000000  ...          0.097828        0.005525\n",
              "1_19              1.000000  0.701838  ...         -0.003302       -0.006482\n",
              "20_41             1.000000  0.733146  ...          0.053137        0.004907\n",
              "42_50             1.000000  0.258682  ...          0.060336        0.005974\n",
              "Rating            0.078030  0.082320  ...          0.187465        0.023562\n",
              "Rating_Count     -0.000201  0.001090  ...          0.032938        0.150448\n",
              "Minimum_Installs -0.001344 -0.000779  ...          0.014966        0.055988\n",
              "Maximum_Installs -0.001012 -0.000231  ...          0.018104        0.067021\n",
              "Free              0.002392  0.003460  ...          0.031607       -0.000212\n",
              "Price             0.003612 -0.000141  ...         -0.009896       -0.000418\n",
              "Ad_Supported      0.288785  0.292850  ...          0.080614       -0.000158\n",
              "In_App_Purchases  0.099481  0.097828  ...          1.000000        0.058141\n",
              "Editors_Choice    0.004670  0.005525  ...          0.058141        1.000000\n",
              "\n",
              "[14 rows x 14 columns]"
            ]
          },
          "metadata": {
            "tags": []
          },
          "execution_count": 133
        }
      ]
    },
    {
      "cell_type": "code",
      "metadata": {
        "colab": {
          "base_uri": "https://localhost:8080/"
        },
        "id": "LEAH_0owubtw",
        "outputId": "a96bd946-a81c-4a70-ff02-68780cf11b7b"
      },
      "source": [
        "from scipy import stats\n",
        "\n",
        "pearson_coef, p_value = stats.pearsonr(df['Maximum_Installs'], df['Length'])\n",
        "print(\"The Pearson Correlation Coefficient for Maximum_Installation is\", pearson_coef, \" with a P-value of P =\", p_value) "
      ],
      "execution_count": null,
      "outputs": [
        {
          "output_type": "stream",
          "text": [
            "The Pearson Correlation Coefficient for Maximum_Installation is -0.0010121385547225187  with a P-value of P = 0.3000023191339962\n"
          ],
          "name": "stdout"
        }
      ]
    },
    {
      "cell_type": "code",
      "metadata": {
        "colab": {
          "base_uri": "https://localhost:8080/"
        },
        "id": "ndLgdK0MvLjA",
        "outputId": "344e7759-9266-4d37-eac2-e3a7763241ab"
      },
      "source": [
        "! pip install seaborn\n",
        "import matplotlib.pyplot as plt\n",
        "import seaborn as sns\n",
        "%matplotlib inline "
      ],
      "execution_count": null,
      "outputs": [
        {
          "output_type": "stream",
          "text": [
            "Requirement already satisfied: seaborn in /usr/local/lib/python3.7/dist-packages (0.11.1)\n",
            "Requirement already satisfied: scipy>=1.0 in /usr/local/lib/python3.7/dist-packages (from seaborn) (1.4.1)\n",
            "Requirement already satisfied: numpy>=1.15 in /usr/local/lib/python3.7/dist-packages (from seaborn) (1.19.5)\n",
            "Requirement already satisfied: pandas>=0.23 in /usr/local/lib/python3.7/dist-packages (from seaborn) (1.1.5)\n",
            "Requirement already satisfied: matplotlib>=2.2 in /usr/local/lib/python3.7/dist-packages (from seaborn) (3.2.2)\n",
            "Requirement already satisfied: python-dateutil>=2.7.3 in /usr/local/lib/python3.7/dist-packages (from pandas>=0.23->seaborn) (2.8.1)\n",
            "Requirement already satisfied: pytz>=2017.2 in /usr/local/lib/python3.7/dist-packages (from pandas>=0.23->seaborn) (2018.9)\n",
            "Requirement already satisfied: pyparsing!=2.0.4,!=2.1.2,!=2.1.6,>=2.0.1 in /usr/local/lib/python3.7/dist-packages (from matplotlib>=2.2->seaborn) (2.4.7)\n",
            "Requirement already satisfied: cycler>=0.10 in /usr/local/lib/python3.7/dist-packages (from matplotlib>=2.2->seaborn) (0.10.0)\n",
            "Requirement already satisfied: kiwisolver>=1.0.1 in /usr/local/lib/python3.7/dist-packages (from matplotlib>=2.2->seaborn) (1.3.1)\n",
            "Requirement already satisfied: six>=1.5 in /usr/local/lib/python3.7/dist-packages (from python-dateutil>=2.7.3->pandas>=0.23->seaborn) (1.15.0)\n"
          ],
          "name": "stdout"
        }
      ]
    },
    {
      "cell_type": "code",
      "metadata": {
        "colab": {
          "base_uri": "https://localhost:8080/",
          "height": 298
        },
        "id": "kje5bnJqrg13",
        "outputId": "076a6e04-734f-4fc7-c9a7-ee5ba41db67b"
      },
      "source": [
        "#The followings are the plots of dependencies between price and the other variables\n",
        "sns.regplot(x=\"Maximum_Installs\", y=\"Length\", data=df)\n",
        "plt.ylim(0,)"
      ],
      "execution_count": null,
      "outputs": [
        {
          "output_type": "execute_result",
          "data": {
            "text/plain": [
              "(0.0, 52.45)"
            ]
          },
          "metadata": {
            "tags": []
          },
          "execution_count": 151
        },
        {
          "output_type": "display_data",
          "data": {
            "image/png": "[encoded data removed]",
            "text/plain": [
              "<Figure size 432x288 with 1 Axes>"
            ]
          },
          "metadata": {
            "tags": [],
            "needs_background": "light"
          }
        }
      ]
    },
    {
      "cell_type": "code",
      "metadata": {
        "colab": {
          "base_uri": "https://localhost:8080/",
          "height": 298
        },
        "id": "6G2KR4G6MfYq",
        "outputId": "82ae4d66-102f-4307-b196-ffbcf5ad5a7c"
      },
      "source": [
        "sns.regplot(x=\"Ad_Supported\", y=\"Length\", data=df)\n",
        "plt.ylim(0,)"
      ],
      "execution_count": null,
      "outputs": [
        {
          "output_type": "execute_result",
          "data": {
            "text/plain": [
              "(0.0, 52.45)"
            ]
          },
          "metadata": {
            "tags": []
          },
          "execution_count": 152
        },
        {
          "output_type": "display_data",
          "data": {
            "image/png": "[encoded data removed]",
            "text/plain": [
              "<Figure size 432x288 with 1 Axes>"
            ]
          },
          "metadata": {
            "tags": [],
            "needs_background": "light"
          }
        }
      ]
    },
    {
      "cell_type": "code",
      "metadata": {
        "colab": {
          "base_uri": "https://localhost:8080/",
          "height": 307
        },
        "id": "BVqJr7u-vhQI",
        "outputId": "1765845f-8347-465d-9714-9de7b10f3c79"
      },
      "source": [
        "sns.boxplot(x=\"Length\", y=\"Maximum_Installs\", data=df)"
      ],
      "execution_count": null,
      "outputs": [
        {
          "output_type": "execute_result",
          "data": {
            "text/plain": [
              "<matplotlib.axes._subplots.AxesSubplot at 0x7fd00bb8d950>"
            ]
          },
          "metadata": {
            "tags": []
          },
          "execution_count": 37
        },
        {
          "output_type": "display_data",
          "data": {
            "image/png": "[encoded data removed]",
            "text/plain": [
              "<Figure size 432x288 with 1 Axes>"
            ]
          },
          "metadata": {
            "tags": [],
            "needs_background": "light"
          }
        }
      ]
    },
    {
      "cell_type": "code",
      "metadata": {
        "colab": {
          "base_uri": "https://localhost:8080/"
        },
        "id": "A6maoiabvhvZ",
        "outputId": "e32e94df-e521-479b-f81f-839fb1715415"
      },
      "source": [
        "from sklearn.linear_model import LinearRegression\n",
        "lm1 = LinearRegression()\n",
        "lm1"
      ],
      "execution_count": null,
      "outputs": [
        {
          "output_type": "execute_result",
          "data": {
            "text/plain": [
              "LinearRegression(copy_X=True, fit_intercept=True, n_jobs=None, normalize=False)"
            ]
          },
          "metadata": {
            "tags": []
          },
          "execution_count": 39
        }
      ]
    },
    {
      "cell_type": "code",
      "metadata": {
        "colab": {
          "base_uri": "https://localhost:8080/"
        },
        "id": "sic3qNDQwdo3",
        "outputId": "031af375-6bd6-4153-b599-1d7d0ec8d221"
      },
      "source": [
        "x = df[['Maximum_Installs']]\n",
        "y = df['Length']\n",
        "lm1.fit(x,y)\n",
        "Yhat=lm1.predict(x)\n",
        "Yhat[0:4]   "
      ],
      "execution_count": null,
      "outputs": [
        {
          "output_type": "execute_result",
          "data": {
            "text/plain": [
              "array([24.90838298, 24.9076762 , 24.87755663, 24.84462108])"
            ]
          },
          "metadata": {
            "tags": []
          },
          "execution_count": 40
        }
      ]
    },
    {
      "cell_type": "code",
      "metadata": {
        "colab": {
          "base_uri": "https://localhost:8080/"
        },
        "id": "N2zrdo1lvhx9",
        "outputId": "22c165c3-28d0-47a4-fb38-f134ccede5cb"
      },
      "source": [
        "lm1.intercept_"
      ],
      "execution_count": null,
      "outputs": [
        {
          "output_type": "execute_result",
          "data": {
            "text/plain": [
              "24.908520245130802"
            ]
          },
          "metadata": {
            "tags": []
          },
          "execution_count": 41
        }
      ]
    },
    {
      "cell_type": "code",
      "metadata": {
        "colab": {
          "base_uri": "https://localhost:8080/",
          "height": 167
        },
        "id": "AhfWj-_rviGT",
        "outputId": "6e5b2965-d0e9-4d59-a481-d88bb6e0fd51"
      },
      "source": [
        "lm1.coef_"
      ],
      "execution_count": null,
      "outputs": [
        {
          "output_type": "error",
          "ename": "NameError",
          "evalue": "ignored",
          "traceback": [
            "\u001b[0;31m---------------------------------------------------------------------------\u001b[0m",
            "\u001b[0;31mNameError\u001b[0m                                 Traceback (most recent call last)",
            "\u001b[0;32m<ipython-input-25-9a34acf1274d>\u001b[0m in \u001b[0;36m<module>\u001b[0;34m()\u001b[0m\n\u001b[0;32m----> 1\u001b[0;31m \u001b[0mlm1\u001b[0m\u001b[0;34m.\u001b[0m\u001b[0mcoef_\u001b[0m\u001b[0;34m\u001b[0m\u001b[0;34m\u001b[0m\u001b[0m\n\u001b[0m",
            "\u001b[0;31mNameError\u001b[0m: name 'lm1' is not defined"
          ]
        }
      ]
    },
    {
      "cell_type": "code",
      "metadata": {
        "colab": {
          "base_uri": "https://localhost:8080/",
          "height": 407
        },
        "id": "dz71pj59UrAO",
        "outputId": "0dbdbd90-2009-46bd-d62a-eacec3c2b387"
      },
      "source": [
        "df.head()"
      ],
      "execution_count": null,
      "outputs": [
        {
          "output_type": "execute_result",
          "data": {
            "text/html": [
              "<div>\n",
              "<style scoped>\n",
              "    .dataframe tbody tr th:only-of-type {\n",
              "        vertical-align: middle;\n",
              "    }\n",
              "\n",
              "    .dataframe tbody tr th {\n",
              "        vertical-align: top;\n",
              "    }\n",
              "\n",
              "    .dataframe thead th {\n",
              "        text-align: right;\n",
              "    }\n",
              "</style>\n",
              "<table border=\"1\" class=\"dataframe\">\n",
              "  <thead>\n",
              "    <tr style=\"text-align: right;\">\n",
              "      <th></th>\n",
              "      <th>App Name</th>\n",
              "      <th>Length</th>\n",
              "      <th>Words</th>\n",
              "      <th>Space</th>\n",
              "      <th>1_19</th>\n",
              "      <th>20_41</th>\n",
              "      <th>42_50</th>\n",
              "      <th>App_Id</th>\n",
              "      <th>Category</th>\n",
              "      <th>Rating</th>\n",
              "      <th>Rating_Count</th>\n",
              "      <th>Installs</th>\n",
              "      <th>Minimum_Installs</th>\n",
              "      <th>Maximum_Installs</th>\n",
              "      <th>Free</th>\n",
              "      <th>Price</th>\n",
              "      <th>Currency</th>\n",
              "      <th>Size</th>\n",
              "      <th>Minimum_Android</th>\n",
              "      <th>Developer_Id</th>\n",
              "      <th>Developer_Website</th>\n",
              "      <th>Developer_Email</th>\n",
              "      <th>Released</th>\n",
              "      <th>Last_Updated</th>\n",
              "      <th>Content_Rating</th>\n",
              "      <th>Privacy_Policy</th>\n",
              "      <th>Ad_Supported</th>\n",
              "      <th>In_App_Purchases</th>\n",
              "      <th>Editors_Choice</th>\n",
              "    </tr>\n",
              "  </thead>\n",
              "  <tbody>\n",
              "    <tr>\n",
              "      <th>0</th>\n",
              "      <td>HTTrack Website Copier</td>\n",
              "      <td>22</td>\n",
              "      <td>2</td>\n",
              "      <td>2</td>\n",
              "      <td>NaN</td>\n",
              "      <td>22.0</td>\n",
              "      <td>NaN</td>\n",
              "      <td>com.httrack.android</td>\n",
              "      <td>Communication</td>\n",
              "      <td>3.6</td>\n",
              "      <td>2848.0</td>\n",
              "      <td>100,000+</td>\n",
              "      <td>100000.0</td>\n",
              "      <td>351560.0</td>\n",
              "      <td>True</td>\n",
              "      <td>0.0</td>\n",
              "      <td>USD</td>\n",
              "      <td>2.7M</td>\n",
              "      <td>2.3 and up</td>\n",
              "      <td>Xavier Roche</td>\n",
              "      <td>http://www.httrack.com/</td>\n",
              "      <td>roche+android@httrack.com</td>\n",
              "      <td>8/12/2013</td>\n",
              "      <td>5/20/2017</td>\n",
              "      <td>Everyone</td>\n",
              "      <td>http://android.httrack.com/privacy-policy.html</td>\n",
              "      <td>False</td>\n",
              "      <td>False</td>\n",
              "      <td>False</td>\n",
              "    </tr>\n",
              "    <tr>\n",
              "      <th>1</th>\n",
              "      <td>World War 2: Offline Strategy</td>\n",
              "      <td>29</td>\n",
              "      <td>4</td>\n",
              "      <td>4</td>\n",
              "      <td>NaN</td>\n",
              "      <td>29.0</td>\n",
              "      <td>NaN</td>\n",
              "      <td>com.skizze.wwii</td>\n",
              "      <td>Strategy</td>\n",
              "      <td>4.3</td>\n",
              "      <td>17297.0</td>\n",
              "      <td>1,000,000+</td>\n",
              "      <td>1000000.0</td>\n",
              "      <td>2161778.0</td>\n",
              "      <td>True</td>\n",
              "      <td>0.0</td>\n",
              "      <td>USD</td>\n",
              "      <td>86M</td>\n",
              "      <td>5.1 and up</td>\n",
              "      <td>Skizze Games</td>\n",
              "      <td>http://stereo7.com/</td>\n",
              "      <td>Skizze.Games@gmail.com</td>\n",
              "      <td>7/19/2018</td>\n",
              "      <td>11/26/2020</td>\n",
              "      <td>Everyone 10+</td>\n",
              "      <td>https://www.iubenda.com/privacy-policy/8032781</td>\n",
              "      <td>True</td>\n",
              "      <td>True</td>\n",
              "      <td>False</td>\n",
              "    </tr>\n",
              "    <tr>\n",
              "      <th>2</th>\n",
              "      <td>WPSApp</td>\n",
              "      <td>6</td>\n",
              "      <td>0</td>\n",
              "      <td>0</td>\n",
              "      <td>6.0</td>\n",
              "      <td>NaN</td>\n",
              "      <td>NaN</td>\n",
              "      <td>com.themausoft.wpsapp</td>\n",
              "      <td>Tools</td>\n",
              "      <td>4.2</td>\n",
              "      <td>488639.0</td>\n",
              "      <td>50,000,000+</td>\n",
              "      <td>50000000.0</td>\n",
              "      <td>79304739.0</td>\n",
              "      <td>True</td>\n",
              "      <td>0.0</td>\n",
              "      <td>USD</td>\n",
              "      <td>5.8M</td>\n",
              "      <td>4.1 and up</td>\n",
              "      <td>TheMauSoft</td>\n",
              "      <td>http://www.themausoft.com</td>\n",
              "      <td>wpsapp.app@gmail.com</td>\n",
              "      <td>3/7/2016</td>\n",
              "      <td>10/21/2020</td>\n",
              "      <td>Everyone</td>\n",
              "      <td>https://sites.google.com/view/wpsapppolicy/main</td>\n",
              "      <td>True</td>\n",
              "      <td>False</td>\n",
              "      <td>False</td>\n",
              "    </tr>\n",
              "    <tr>\n",
              "      <th>3</th>\n",
              "      <td>OfficeSuite - Office, PDF, Word, Excel, PowerP...</td>\n",
              "      <td>50</td>\n",
              "      <td>6</td>\n",
              "      <td>6</td>\n",
              "      <td>NaN</td>\n",
              "      <td>NaN</td>\n",
              "      <td>50.0</td>\n",
              "      <td>com.mobisystems.office</td>\n",
              "      <td>Business</td>\n",
              "      <td>4.2</td>\n",
              "      <td>1224420.0</td>\n",
              "      <td>100,000,000+</td>\n",
              "      <td>100000000.0</td>\n",
              "      <td>163660067.0</td>\n",
              "      <td>True</td>\n",
              "      <td>0.0</td>\n",
              "      <td>USD</td>\n",
              "      <td>59M</td>\n",
              "      <td>4.4 and up</td>\n",
              "      <td>MobiSystems</td>\n",
              "      <td>http://www.mobisystems.com</td>\n",
              "      <td>support-officesuite-android@mobisystems.com</td>\n",
              "      <td>12/22/2011</td>\n",
              "      <td>11/23/2020</td>\n",
              "      <td>Everyone</td>\n",
              "      <td>http://www.mobisystems.com/mobile/privacy-poli...</td>\n",
              "      <td>True</td>\n",
              "      <td>True</td>\n",
              "      <td>False</td>\n",
              "    </tr>\n",
              "    <tr>\n",
              "      <th>4</th>\n",
              "      <td>Loud Player Free</td>\n",
              "      <td>16</td>\n",
              "      <td>2</td>\n",
              "      <td>2</td>\n",
              "      <td>16.0</td>\n",
              "      <td>NaN</td>\n",
              "      <td>NaN</td>\n",
              "      <td>com.arthelion.loudplayer</td>\n",
              "      <td>Music &amp; Audio</td>\n",
              "      <td>4.2</td>\n",
              "      <td>665.0</td>\n",
              "      <td>50,000+</td>\n",
              "      <td>50000.0</td>\n",
              "      <td>73463.0</td>\n",
              "      <td>True</td>\n",
              "      <td>0.0</td>\n",
              "      <td>USD</td>\n",
              "      <td>29M</td>\n",
              "      <td>5.0 and up</td>\n",
              "      <td>Arthelion92</td>\n",
              "      <td>http://www.arthelion.com</td>\n",
              "      <td>arthelion92@gmail.com</td>\n",
              "      <td>9/24/2016</td>\n",
              "      <td>11/22/2020</td>\n",
              "      <td>Everyone</td>\n",
              "      <td>http://www.arthelion.com/index.php/fr/android-...</td>\n",
              "      <td>False</td>\n",
              "      <td>False</td>\n",
              "      <td>False</td>\n",
              "    </tr>\n",
              "  </tbody>\n",
              "</table>\n",
              "</div>"
            ],
            "text/plain": [
              "                                            App Name  ...  Editors_Choice\n",
              "0                             HTTrack Website Copier  ...           False\n",
              "1                      World War 2: Offline Strategy  ...           False\n",
              "2                                             WPSApp  ...           False\n",
              "3  OfficeSuite - Office, PDF, Word, Excel, PowerP...  ...           False\n",
              "4                                   Loud Player Free  ...           False\n",
              "\n",
              "[5 rows x 29 columns]"
            ]
          },
          "metadata": {
            "tags": []
          },
          "execution_count": 41
        }
      ]
    },
    {
      "cell_type": "code",
      "metadata": {
        "id": "T3-_wTtnY7_j"
      },
      "source": [
        "df2=df.drop(['App Name', '1_19', '20_41', '42_50','App_Id',\"Category\", \n",
        "             \"Installs\", \"Free\", \"Currency\", \"Size\", \n",
        "             \"Minimum_Android\", \"Developer_Id\", \"Developer_Website\", \n",
        "             \"Developer_Email\", \"Released\", \"Last_Updated\", \n",
        "             \"Content_Rating\", \"Privacy_Policy\", \"Ad_Supported\", \n",
        "             \"In_App_Purchases\", \"Editors_Choice\"], axis='columns')"
      ],
      "execution_count": null,
      "outputs": []
    },
    {
      "cell_type": "code",
      "metadata": {
        "colab": {
          "base_uri": "https://localhost:8080/"
        },
        "id": "pGZqZhN4aE-7",
        "outputId": "502a0702-7a1e-40ea-93c0-ec8ed1f3ce70"
      },
      "source": [
        "df2.isnull().sum()"
      ],
      "execution_count": null,
      "outputs": [
        {
          "output_type": "execute_result",
          "data": {
            "text/plain": [
              "Length                 0\n",
              "Words                  0\n",
              "Space                  0\n",
              "Rating              1221\n",
              "Rating_Count        1221\n",
              "Minimum_Installs      81\n",
              "Maximum_Installs       1\n",
              "Price                  1\n",
              "dtype: int64"
            ]
          },
          "metadata": {
            "tags": []
          },
          "execution_count": 101
        }
      ]
    },
    {
      "cell_type": "code",
      "metadata": {
        "id": "tmUngtPfeZnW"
      },
      "source": [
        "df_word= df[[\"Length\",\"Words\", \"Maximum_Installs\", \"Minimum_Installs\", \"Category\"]]"
      ],
      "execution_count": null,
      "outputs": []
    },
    {
      "cell_type": "code",
      "metadata": {
        "colab": {
          "base_uri": "https://localhost:8080/",
          "height": 422
        },
        "id": "b_6tyW_M00nV",
        "outputId": "ea98dd4f-df95-47bd-82dc-b40164221fa3"
      },
      "source": [
        "from scipy import stats\n",
        "\n",
        "pearson_coef, p_value = stats.pearsonr(df_word['Maximum_Installs'], df_word['Words'])\n",
        "print(\"The Pearson Correlation Coefficient for Maximum_Installation is\", pearson_coef, \" with a P-value of P =\", p_value) "
      ],
      "execution_count": null,
      "outputs": [
        {
          "output_type": "error",
          "ename": "ValueError",
          "evalue": "ignored",
          "traceback": [
            "\u001b[0;31m---------------------------------------------------------------------------\u001b[0m",
            "\u001b[0;31mValueError\u001b[0m                                Traceback (most recent call last)",
            "\u001b[0;32m<ipython-input-145-511865f1b929>\u001b[0m in \u001b[0;36m<module>\u001b[0;34m()\u001b[0m\n\u001b[1;32m      1\u001b[0m \u001b[0;32mfrom\u001b[0m \u001b[0mscipy\u001b[0m \u001b[0;32mimport\u001b[0m \u001b[0mstats\u001b[0m\u001b[0;34m\u001b[0m\u001b[0;34m\u001b[0m\u001b[0m\n\u001b[1;32m      2\u001b[0m \u001b[0;34m\u001b[0m\u001b[0m\n\u001b[0;32m----> 3\u001b[0;31m \u001b[0mpearson_coef\u001b[0m\u001b[0;34m,\u001b[0m \u001b[0mp_value\u001b[0m \u001b[0;34m=\u001b[0m \u001b[0mstats\u001b[0m\u001b[0;34m.\u001b[0m\u001b[0mpearsonr\u001b[0m\u001b[0;34m(\u001b[0m\u001b[0mdf_word\u001b[0m\u001b[0;34m[\u001b[0m\u001b[0;34m'Maximum_Installs'\u001b[0m\u001b[0;34m]\u001b[0m\u001b[0;34m,\u001b[0m \u001b[0mdf_word\u001b[0m\u001b[0;34m[\u001b[0m\u001b[0;34m'Words'\u001b[0m\u001b[0;34m]\u001b[0m\u001b[0;34m)\u001b[0m\u001b[0;34m\u001b[0m\u001b[0;34m\u001b[0m\u001b[0m\n\u001b[0m\u001b[1;32m      4\u001b[0m \u001b[0mprint\u001b[0m\u001b[0;34m(\u001b[0m\u001b[0;34m\"The Pearson Correlation Coefficient for Maximum_Installation is\"\u001b[0m\u001b[0;34m,\u001b[0m \u001b[0mpearson_coef\u001b[0m\u001b[0;34m,\u001b[0m \u001b[0;34m\" with a P-value of P =\"\u001b[0m\u001b[0;34m,\u001b[0m \u001b[0mp_value\u001b[0m\u001b[0;34m)\u001b[0m\u001b[0;34m\u001b[0m\u001b[0;34m\u001b[0m\u001b[0m\n",
            "\u001b[0;32m/usr/local/lib/python3.7/dist-packages/scipy/stats/stats.py\u001b[0m in \u001b[0;36mpearsonr\u001b[0;34m(x, y)\u001b[0m\n\u001b[1;32m   3518\u001b[0m \u001b[0;34m\u001b[0m\u001b[0m\n\u001b[1;32m   3519\u001b[0m     \u001b[0mxmean\u001b[0m \u001b[0;34m=\u001b[0m \u001b[0mx\u001b[0m\u001b[0;34m.\u001b[0m\u001b[0mmean\u001b[0m\u001b[0;34m(\u001b[0m\u001b[0mdtype\u001b[0m\u001b[0;34m=\u001b[0m\u001b[0mdtype\u001b[0m\u001b[0;34m)\u001b[0m\u001b[0;34m\u001b[0m\u001b[0;34m\u001b[0m\u001b[0m\n\u001b[0;32m-> 3520\u001b[0;31m     \u001b[0mymean\u001b[0m \u001b[0;34m=\u001b[0m \u001b[0my\u001b[0m\u001b[0;34m.\u001b[0m\u001b[0mmean\u001b[0m\u001b[0;34m(\u001b[0m\u001b[0mdtype\u001b[0m\u001b[0;34m=\u001b[0m\u001b[0mdtype\u001b[0m\u001b[0;34m)\u001b[0m\u001b[0;34m\u001b[0m\u001b[0;34m\u001b[0m\u001b[0m\n\u001b[0m\u001b[1;32m   3521\u001b[0m \u001b[0;34m\u001b[0m\u001b[0m\n\u001b[1;32m   3522\u001b[0m     \u001b[0;31m# By using `astype(dtype)`, we ensure that the intermediate calculations\u001b[0m\u001b[0;34m\u001b[0m\u001b[0;34m\u001b[0m\u001b[0;34m\u001b[0m\u001b[0m\n",
            "\u001b[0;32m/usr/local/lib/python3.7/dist-packages/numpy/core/_methods.py\u001b[0m in \u001b[0;36m_mean\u001b[0;34m(a, axis, dtype, out, keepdims)\u001b[0m\n\u001b[1;32m    158\u001b[0m             \u001b[0mis_float16_result\u001b[0m \u001b[0;34m=\u001b[0m \u001b[0;32mTrue\u001b[0m\u001b[0;34m\u001b[0m\u001b[0;34m\u001b[0m\u001b[0m\n\u001b[1;32m    159\u001b[0m \u001b[0;34m\u001b[0m\u001b[0m\n\u001b[0;32m--> 160\u001b[0;31m     \u001b[0mret\u001b[0m \u001b[0;34m=\u001b[0m \u001b[0mumr_sum\u001b[0m\u001b[0;34m(\u001b[0m\u001b[0marr\u001b[0m\u001b[0;34m,\u001b[0m \u001b[0maxis\u001b[0m\u001b[0;34m,\u001b[0m \u001b[0mdtype\u001b[0m\u001b[0;34m,\u001b[0m \u001b[0mout\u001b[0m\u001b[0;34m,\u001b[0m \u001b[0mkeepdims\u001b[0m\u001b[0;34m)\u001b[0m\u001b[0;34m\u001b[0m\u001b[0;34m\u001b[0m\u001b[0m\n\u001b[0m\u001b[1;32m    161\u001b[0m     \u001b[0;32mif\u001b[0m \u001b[0misinstance\u001b[0m\u001b[0;34m(\u001b[0m\u001b[0mret\u001b[0m\u001b[0;34m,\u001b[0m \u001b[0mmu\u001b[0m\u001b[0;34m.\u001b[0m\u001b[0mndarray\u001b[0m\u001b[0;34m)\u001b[0m\u001b[0;34m:\u001b[0m\u001b[0;34m\u001b[0m\u001b[0;34m\u001b[0m\u001b[0m\n\u001b[1;32m    162\u001b[0m         ret = um.true_divide(\n",
            "\u001b[0;31mValueError\u001b[0m: could not convert string to float: '#NAME?'"
          ]
        }
      ]
    },
    {
      "cell_type": "code",
      "metadata": {
        "colab": {
          "base_uri": "https://localhost:8080/",
          "height": 200
        },
        "id": "XLJzny4F0Rco",
        "outputId": "e2c8710a-7667-4183-8088-5f32422ea69d"
      },
      "source": [
        "df_word.head()"
      ],
      "execution_count": null,
      "outputs": [
        {
          "output_type": "execute_result",
          "data": {
            "text/html": [
              "<div>\n",
              "<style scoped>\n",
              "    .dataframe tbody tr th:only-of-type {\n",
              "        vertical-align: middle;\n",
              "    }\n",
              "\n",
              "    .dataframe tbody tr th {\n",
              "        vertical-align: top;\n",
              "    }\n",
              "\n",
              "    .dataframe thead th {\n",
              "        text-align: right;\n",
              "    }\n",
              "</style>\n",
              "<table border=\"1\" class=\"dataframe\">\n",
              "  <thead>\n",
              "    <tr style=\"text-align: right;\">\n",
              "      <th></th>\n",
              "      <th>Length</th>\n",
              "      <th>Words</th>\n",
              "      <th>Maximum_Installs</th>\n",
              "      <th>Minimum_Installs</th>\n",
              "      <th>Category</th>\n",
              "    </tr>\n",
              "  </thead>\n",
              "  <tbody>\n",
              "    <tr>\n",
              "      <th>0</th>\n",
              "      <td>22</td>\n",
              "      <td>2</td>\n",
              "      <td>351560</td>\n",
              "      <td>100000.0</td>\n",
              "      <td>Communication</td>\n",
              "    </tr>\n",
              "    <tr>\n",
              "      <th>1</th>\n",
              "      <td>29</td>\n",
              "      <td>4</td>\n",
              "      <td>2161778</td>\n",
              "      <td>1000000.0</td>\n",
              "      <td>Strategy</td>\n",
              "    </tr>\n",
              "    <tr>\n",
              "      <th>2</th>\n",
              "      <td>6</td>\n",
              "      <td>0</td>\n",
              "      <td>79304739</td>\n",
              "      <td>50000000.0</td>\n",
              "      <td>Tools</td>\n",
              "    </tr>\n",
              "    <tr>\n",
              "      <th>3</th>\n",
              "      <td>50</td>\n",
              "      <td>6</td>\n",
              "      <td>163660067</td>\n",
              "      <td>100000000.0</td>\n",
              "      <td>Business</td>\n",
              "    </tr>\n",
              "    <tr>\n",
              "      <th>4</th>\n",
              "      <td>16</td>\n",
              "      <td>2</td>\n",
              "      <td>73463</td>\n",
              "      <td>50000.0</td>\n",
              "      <td>Music &amp; Audio</td>\n",
              "    </tr>\n",
              "  </tbody>\n",
              "</table>\n",
              "</div>"
            ],
            "text/plain": [
              "   Length Words  Maximum_Installs  Minimum_Installs       Category\n",
              "0      22     2            351560          100000.0  Communication\n",
              "1      29     4           2161778         1000000.0       Strategy\n",
              "2       6     0          79304739        50000000.0          Tools\n",
              "3      50     6         163660067       100000000.0       Business\n",
              "4      16     2             73463           50000.0  Music & Audio"
            ]
          },
          "metadata": {
            "tags": []
          },
          "execution_count": 141
        }
      ]
    },
    {
      "cell_type": "code",
      "metadata": {
        "id": "CZeNtbH10HKg"
      },
      "source": [
        "df_word=df_word.dropna()\n"
      ],
      "execution_count": null,
      "outputs": []
    },
    {
      "cell_type": "code",
      "metadata": {
        "colab": {
          "base_uri": "https://localhost:8080/",
          "height": 167
        },
        "id": "sVdsd1pC0Koy",
        "outputId": "e459d5b0-1af2-4b80-c6dd-ce78b3e5649d"
      },
      "source": [
        "df_word.corr()"
      ],
      "execution_count": null,
      "outputs": [
        {
          "output_type": "error",
          "ename": "NameError",
          "evalue": "ignored",
          "traceback": [
            "\u001b[0;31m---------------------------------------------------------------------------\u001b[0m",
            "\u001b[0;31mNameError\u001b[0m                                 Traceback (most recent call last)",
            "\u001b[0;32m<ipython-input-18-1cce04a02713>\u001b[0m in \u001b[0;36m<module>\u001b[0;34m()\u001b[0m\n\u001b[0;32m----> 1\u001b[0;31m \u001b[0mdf_word\u001b[0m\u001b[0;34m.\u001b[0m\u001b[0mcorr\u001b[0m\u001b[0;34m(\u001b[0m\u001b[0;34m)\u001b[0m\u001b[0;34m\u001b[0m\u001b[0;34m\u001b[0m\u001b[0m\n\u001b[0m",
            "\u001b[0;31mNameError\u001b[0m: name 'df_word' is not defined"
          ]
        }
      ]
    },
    {
      "cell_type": "code",
      "metadata": {
        "id": "Qwsfx0XM7xav"
      },
      "source": [
        "df[\"Maximum_Installs\"]= (df[\"Maximum_Installs\"] - df[\"Maximum_Installs\"].mean()) / df[\"Maximum_Installs\"].std()"
      ],
      "execution_count": null,
      "outputs": []
    },
    {
      "cell_type": "code",
      "metadata": {
        "id": "ThGGpeSDVKJz"
      },
      "source": [
        "df_1_10=df[[\"Length\",\"1_10\", \"Maximum_Installs\", \"Minimum_Installs\", \"Category\"]]\n",
        "df_11_20=df[[\"Length\",\"11_20\", \"Maximum_Installs\", \"Minimum_Installs\", \"Category\"]]\n",
        "df_21_30=df[[\"Length\",\"21_30\", \"Maximum_Installs\", \"Minimum_Installs\", \"Category\"]]\n",
        "df_31_40=df[[\"Length\",\"31_40\", \"Maximum_Installs\", \"Minimum_Installs\", \"Category\"]]\n",
        "df_41_50=df[[\"Length\",\"41_50\", \"Maximum_Installs\", \"Minimum_Installs\", \"Category\"]]\n"
      ],
      "execution_count": null,
      "outputs": []
    },
    {
      "cell_type": "code",
      "metadata": {
        "colab": {
          "base_uri": "https://localhost:8080/",
          "height": 200
        },
        "id": "KvOMSxqbVwl3",
        "outputId": "cf4f5058-4521-4db2-e7a2-6b4b390b8e85"
      },
      "source": [
        "df_1_10.head()"
      ],
      "execution_count": null,
      "outputs": [
        {
          "output_type": "execute_result",
          "data": {
            "text/html": [
              "<div>\n",
              "<style scoped>\n",
              "    .dataframe tbody tr th:only-of-type {\n",
              "        vertical-align: middle;\n",
              "    }\n",
              "\n",
              "    .dataframe tbody tr th {\n",
              "        vertical-align: top;\n",
              "    }\n",
              "\n",
              "    .dataframe thead th {\n",
              "        text-align: right;\n",
              "    }\n",
              "</style>\n",
              "<table border=\"1\" class=\"dataframe\">\n",
              "  <thead>\n",
              "    <tr style=\"text-align: right;\">\n",
              "      <th></th>\n",
              "      <th>Length</th>\n",
              "      <th>1_10</th>\n",
              "      <th>Maximum_Installs</th>\n",
              "      <th>Minimum_Installs</th>\n",
              "      <th>Category</th>\n",
              "    </tr>\n",
              "  </thead>\n",
              "  <tbody>\n",
              "    <tr>\n",
              "      <th>0</th>\n",
              "      <td>22</td>\n",
              "      <td>NaN</td>\n",
              "      <td>-0.007233</td>\n",
              "      <td>100000.0</td>\n",
              "      <td>Communication</td>\n",
              "    </tr>\n",
              "    <tr>\n",
              "      <th>1</th>\n",
              "      <td>29</td>\n",
              "      <td>NaN</td>\n",
              "      <td>0.050603</td>\n",
              "      <td>1000000.0</td>\n",
              "      <td>Strategy</td>\n",
              "    </tr>\n",
              "    <tr>\n",
              "      <th>2</th>\n",
              "      <td>6</td>\n",
              "      <td>6.0</td>\n",
              "      <td>2.515311</td>\n",
              "      <td>50000000.0</td>\n",
              "      <td>Tools</td>\n",
              "    </tr>\n",
              "    <tr>\n",
              "      <th>3</th>\n",
              "      <td>50</td>\n",
              "      <td>NaN</td>\n",
              "      <td>5.210454</td>\n",
              "      <td>100000000.0</td>\n",
              "      <td>Business</td>\n",
              "    </tr>\n",
              "    <tr>\n",
              "      <th>4</th>\n",
              "      <td>16</td>\n",
              "      <td>NaN</td>\n",
              "      <td>-0.016118</td>\n",
              "      <td>50000.0</td>\n",
              "      <td>Music &amp; Audio</td>\n",
              "    </tr>\n",
              "  </tbody>\n",
              "</table>\n",
              "</div>"
            ],
            "text/plain": [
              "   Length  1_10  Maximum_Installs  Minimum_Installs       Category\n",
              "0      22   NaN         -0.007233          100000.0  Communication\n",
              "1      29   NaN          0.050603         1000000.0       Strategy\n",
              "2       6   6.0          2.515311        50000000.0          Tools\n",
              "3      50   NaN          5.210454       100000000.0       Business\n",
              "4      16   NaN         -0.016118           50000.0  Music & Audio"
            ]
          },
          "metadata": {
            "tags": []
          },
          "execution_count": 33
        }
      ]
    },
    {
      "cell_type": "code",
      "metadata": {
        "colab": {
          "base_uri": "https://localhost:8080/"
        },
        "id": "QYRcJACiQa5f",
        "outputId": "81e7c2fd-7593-4cdb-df91-8f6e69d29483"
      },
      "source": [
        "import statistics as stats\n",
        "print(\"variance is\", stats.mean(df_1_10[\"1_10\"]))"
      ],
      "execution_count": null,
      "outputs": [
        {
          "output_type": "stream",
          "text": [
            "variance is 7.867124758016598\n"
          ],
          "name": "stdout"
        }
      ]
    },
    {
      "cell_type": "code",
      "metadata": {
        "id": "uq_qwjd3XwNe"
      },
      "source": [
        "df_1_10=df_1_10.dropna()\n",
        "df_11_20=df_11_20.dropna()\n",
        "df_21_30=df_21_30.dropna()\n",
        "df_31_40=df_31_40.dropna()\n",
        "df_41_50=df_21_30.dropna()"
      ],
      "execution_count": null,
      "outputs": []
    },
    {
      "cell_type": "code",
      "metadata": {
        "id": "VtjwiMFD-Xgy"
      },
      "source": [
        ""
      ],
      "execution_count": null,
      "outputs": []
    },
    {
      "cell_type": "code",
      "metadata": {
        "id": "THAzwgIU-qnQ"
      },
      "source": [
        ""
      ],
      "execution_count": null,
      "outputs": []
    },
    {
      "cell_type": "code",
      "metadata": {
        "colab": {
          "base_uri": "https://localhost:8080/",
          "height": 170
        },
        "id": "ryVaUXCa99O-",
        "outputId": "dbb18b22-65de-4b82-f5a5-a623b2e6b0b6"
      },
      "source": [
        "df_1_10.corr(method='pearson')"
      ],
      "execution_count": null,
      "outputs": [
        {
          "output_type": "execute_result",
          "data": {
            "text/html": [
              "<div>\n",
              "<style scoped>\n",
              "    .dataframe tbody tr th:only-of-type {\n",
              "        vertical-align: middle;\n",
              "    }\n",
              "\n",
              "    .dataframe tbody tr th {\n",
              "        vertical-align: top;\n",
              "    }\n",
              "\n",
              "    .dataframe thead th {\n",
              "        text-align: right;\n",
              "    }\n",
              "</style>\n",
              "<table border=\"1\" class=\"dataframe\">\n",
              "  <thead>\n",
              "    <tr style=\"text-align: right;\">\n",
              "      <th></th>\n",
              "      <th>Length</th>\n",
              "      <th>1_10</th>\n",
              "      <th>Maximum_Installs</th>\n",
              "      <th>Minimum_Installs</th>\n",
              "    </tr>\n",
              "  </thead>\n",
              "  <tbody>\n",
              "    <tr>\n",
              "      <th>Length</th>\n",
              "      <td>1.000000</td>\n",
              "      <td>1.000000</td>\n",
              "      <td>-0.004298</td>\n",
              "      <td>-0.004985</td>\n",
              "    </tr>\n",
              "    <tr>\n",
              "      <th>1_10</th>\n",
              "      <td>1.000000</td>\n",
              "      <td>1.000000</td>\n",
              "      <td>-0.004298</td>\n",
              "      <td>-0.004985</td>\n",
              "    </tr>\n",
              "    <tr>\n",
              "      <th>Maximum_Installs</th>\n",
              "      <td>-0.004298</td>\n",
              "      <td>-0.004298</td>\n",
              "      <td>1.000000</td>\n",
              "      <td>0.961025</td>\n",
              "    </tr>\n",
              "    <tr>\n",
              "      <th>Minimum_Installs</th>\n",
              "      <td>-0.004985</td>\n",
              "      <td>-0.004985</td>\n",
              "      <td>0.961025</td>\n",
              "      <td>1.000000</td>\n",
              "    </tr>\n",
              "  </tbody>\n",
              "</table>\n",
              "</div>"
            ],
            "text/plain": [
              "                    Length      1_10  Maximum_Installs  Minimum_Installs\n",
              "Length            1.000000  1.000000         -0.004298         -0.004985\n",
              "1_10              1.000000  1.000000         -0.004298         -0.004985\n",
              "Maximum_Installs -0.004298 -0.004298          1.000000          0.961025\n",
              "Minimum_Installs -0.004985 -0.004985          0.961025          1.000000"
            ]
          },
          "metadata": {
            "tags": []
          },
          "execution_count": 42
        }
      ]
    },
    {
      "cell_type": "code",
      "metadata": {
        "colab": {
          "base_uri": "https://localhost:8080/",
          "height": 170
        },
        "id": "GAJVUbyH9-7p",
        "outputId": "efe833ca-3836-43ab-f086-60b8d220e492"
      },
      "source": [
        "df_11_20.corr(method='pearson')"
      ],
      "execution_count": null,
      "outputs": [
        {
          "output_type": "execute_result",
          "data": {
            "text/html": [
              "<div>\n",
              "<style scoped>\n",
              "    .dataframe tbody tr th:only-of-type {\n",
              "        vertical-align: middle;\n",
              "    }\n",
              "\n",
              "    .dataframe tbody tr th {\n",
              "        vertical-align: top;\n",
              "    }\n",
              "\n",
              "    .dataframe thead th {\n",
              "        text-align: right;\n",
              "    }\n",
              "</style>\n",
              "<table border=\"1\" class=\"dataframe\">\n",
              "  <thead>\n",
              "    <tr style=\"text-align: right;\">\n",
              "      <th></th>\n",
              "      <th>Length</th>\n",
              "      <th>11_20</th>\n",
              "      <th>Maximum_Installs</th>\n",
              "      <th>Minimum_Installs</th>\n",
              "    </tr>\n",
              "  </thead>\n",
              "  <tbody>\n",
              "    <tr>\n",
              "      <th>Length</th>\n",
              "      <td>1.000000</td>\n",
              "      <td>1.000000</td>\n",
              "      <td>-0.000962</td>\n",
              "      <td>-0.000144</td>\n",
              "    </tr>\n",
              "    <tr>\n",
              "      <th>11_20</th>\n",
              "      <td>1.000000</td>\n",
              "      <td>1.000000</td>\n",
              "      <td>-0.000962</td>\n",
              "      <td>-0.000144</td>\n",
              "    </tr>\n",
              "    <tr>\n",
              "      <th>Maximum_Installs</th>\n",
              "      <td>-0.000962</td>\n",
              "      <td>-0.000962</td>\n",
              "      <td>1.000000</td>\n",
              "      <td>0.944273</td>\n",
              "    </tr>\n",
              "    <tr>\n",
              "      <th>Minimum_Installs</th>\n",
              "      <td>-0.000144</td>\n",
              "      <td>-0.000144</td>\n",
              "      <td>0.944273</td>\n",
              "      <td>1.000000</td>\n",
              "    </tr>\n",
              "  </tbody>\n",
              "</table>\n",
              "</div>"
            ],
            "text/plain": [
              "                    Length     11_20  Maximum_Installs  Minimum_Installs\n",
              "Length            1.000000  1.000000         -0.000962         -0.000144\n",
              "11_20             1.000000  1.000000         -0.000962         -0.000144\n",
              "Maximum_Installs -0.000962 -0.000962          1.000000          0.944273\n",
              "Minimum_Installs -0.000144 -0.000144          0.944273          1.000000"
            ]
          },
          "metadata": {
            "tags": []
          },
          "execution_count": 43
        }
      ]
    },
    {
      "cell_type": "code",
      "metadata": {
        "colab": {
          "base_uri": "https://localhost:8080/",
          "height": 170
        },
        "id": "XbY_sEZw-CeN",
        "outputId": "ab30eec3-b35c-4735-e472-6e4a66198d30"
      },
      "source": [
        "df_21_30.corr(method='pearson')"
      ],
      "execution_count": null,
      "outputs": [
        {
          "output_type": "execute_result",
          "data": {
            "text/html": [
              "<div>\n",
              "<style scoped>\n",
              "    .dataframe tbody tr th:only-of-type {\n",
              "        vertical-align: middle;\n",
              "    }\n",
              "\n",
              "    .dataframe tbody tr th {\n",
              "        vertical-align: top;\n",
              "    }\n",
              "\n",
              "    .dataframe thead th {\n",
              "        text-align: right;\n",
              "    }\n",
              "</style>\n",
              "<table border=\"1\" class=\"dataframe\">\n",
              "  <thead>\n",
              "    <tr style=\"text-align: right;\">\n",
              "      <th></th>\n",
              "      <th>Length</th>\n",
              "      <th>21_30</th>\n",
              "      <th>Maximum_Installs</th>\n",
              "      <th>Minimum_Installs</th>\n",
              "    </tr>\n",
              "  </thead>\n",
              "  <tbody>\n",
              "    <tr>\n",
              "      <th>Length</th>\n",
              "      <td>1.000000</td>\n",
              "      <td>1.000000</td>\n",
              "      <td>0.001736</td>\n",
              "      <td>0.001799</td>\n",
              "    </tr>\n",
              "    <tr>\n",
              "      <th>21_30</th>\n",
              "      <td>1.000000</td>\n",
              "      <td>1.000000</td>\n",
              "      <td>0.001736</td>\n",
              "      <td>0.001799</td>\n",
              "    </tr>\n",
              "    <tr>\n",
              "      <th>Maximum_Installs</th>\n",
              "      <td>0.001736</td>\n",
              "      <td>0.001736</td>\n",
              "      <td>1.000000</td>\n",
              "      <td>0.980142</td>\n",
              "    </tr>\n",
              "    <tr>\n",
              "      <th>Minimum_Installs</th>\n",
              "      <td>0.001799</td>\n",
              "      <td>0.001799</td>\n",
              "      <td>0.980142</td>\n",
              "      <td>1.000000</td>\n",
              "    </tr>\n",
              "  </tbody>\n",
              "</table>\n",
              "</div>"
            ],
            "text/plain": [
              "                    Length     21_30  Maximum_Installs  Minimum_Installs\n",
              "Length            1.000000  1.000000          0.001736          0.001799\n",
              "21_30             1.000000  1.000000          0.001736          0.001799\n",
              "Maximum_Installs  0.001736  0.001736          1.000000          0.980142\n",
              "Minimum_Installs  0.001799  0.001799          0.980142          1.000000"
            ]
          },
          "metadata": {
            "tags": []
          },
          "execution_count": 45
        }
      ]
    },
    {
      "cell_type": "code",
      "metadata": {
        "colab": {
          "base_uri": "https://localhost:8080/",
          "height": 170
        },
        "id": "MSxIssb5-Fvq",
        "outputId": "6a9684f1-bdf8-45e0-ce19-81972510345f"
      },
      "source": [
        "df_31_40.corr(method='pearson')"
      ],
      "execution_count": null,
      "outputs": [
        {
          "output_type": "execute_result",
          "data": {
            "text/html": [
              "<div>\n",
              "<style scoped>\n",
              "    .dataframe tbody tr th:only-of-type {\n",
              "        vertical-align: middle;\n",
              "    }\n",
              "\n",
              "    .dataframe tbody tr th {\n",
              "        vertical-align: top;\n",
              "    }\n",
              "\n",
              "    .dataframe thead th {\n",
              "        text-align: right;\n",
              "    }\n",
              "</style>\n",
              "<table border=\"1\" class=\"dataframe\">\n",
              "  <thead>\n",
              "    <tr style=\"text-align: right;\">\n",
              "      <th></th>\n",
              "      <th>Length</th>\n",
              "      <th>31_40</th>\n",
              "      <th>Maximum_Installs</th>\n",
              "      <th>Minimum_Installs</th>\n",
              "    </tr>\n",
              "  </thead>\n",
              "  <tbody>\n",
              "    <tr>\n",
              "      <th>Length</th>\n",
              "      <td>1.000000</td>\n",
              "      <td>1.000000</td>\n",
              "      <td>0.007233</td>\n",
              "      <td>0.005696</td>\n",
              "    </tr>\n",
              "    <tr>\n",
              "      <th>31_40</th>\n",
              "      <td>1.000000</td>\n",
              "      <td>1.000000</td>\n",
              "      <td>0.007233</td>\n",
              "      <td>0.005696</td>\n",
              "    </tr>\n",
              "    <tr>\n",
              "      <th>Maximum_Installs</th>\n",
              "      <td>0.007233</td>\n",
              "      <td>0.007233</td>\n",
              "      <td>1.000000</td>\n",
              "      <td>0.860771</td>\n",
              "    </tr>\n",
              "    <tr>\n",
              "      <th>Minimum_Installs</th>\n",
              "      <td>0.005696</td>\n",
              "      <td>0.005696</td>\n",
              "      <td>0.860771</td>\n",
              "      <td>1.000000</td>\n",
              "    </tr>\n",
              "  </tbody>\n",
              "</table>\n",
              "</div>"
            ],
            "text/plain": [
              "                    Length     31_40  Maximum_Installs  Minimum_Installs\n",
              "Length            1.000000  1.000000          0.007233          0.005696\n",
              "31_40             1.000000  1.000000          0.007233          0.005696\n",
              "Maximum_Installs  0.007233  0.007233          1.000000          0.860771\n",
              "Minimum_Installs  0.005696  0.005696          0.860771          1.000000"
            ]
          },
          "metadata": {
            "tags": []
          },
          "execution_count": 46
        }
      ]
    },
    {
      "cell_type": "code",
      "metadata": {
        "colab": {
          "base_uri": "https://localhost:8080/",
          "height": 170
        },
        "id": "nwSy53a-YBiF",
        "outputId": "f8b34d3a-936d-405d-aa9a-21208b34dff7"
      },
      "source": [
        "df_41_50.corr(method='pearson')"
      ],
      "execution_count": null,
      "outputs": [
        {
          "output_type": "execute_result",
          "data": {
            "text/html": [
              "<div>\n",
              "<style scoped>\n",
              "    .dataframe tbody tr th:only-of-type {\n",
              "        vertical-align: middle;\n",
              "    }\n",
              "\n",
              "    .dataframe tbody tr th {\n",
              "        vertical-align: top;\n",
              "    }\n",
              "\n",
              "    .dataframe thead th {\n",
              "        text-align: right;\n",
              "    }\n",
              "</style>\n",
              "<table border=\"1\" class=\"dataframe\">\n",
              "  <thead>\n",
              "    <tr style=\"text-align: right;\">\n",
              "      <th></th>\n",
              "      <th>Length</th>\n",
              "      <th>21_30</th>\n",
              "      <th>Maximum_Installs</th>\n",
              "      <th>Minimum_Installs</th>\n",
              "    </tr>\n",
              "  </thead>\n",
              "  <tbody>\n",
              "    <tr>\n",
              "      <th>Length</th>\n",
              "      <td>1.000000</td>\n",
              "      <td>1.000000</td>\n",
              "      <td>0.001736</td>\n",
              "      <td>0.001799</td>\n",
              "    </tr>\n",
              "    <tr>\n",
              "      <th>21_30</th>\n",
              "      <td>1.000000</td>\n",
              "      <td>1.000000</td>\n",
              "      <td>0.001736</td>\n",
              "      <td>0.001799</td>\n",
              "    </tr>\n",
              "    <tr>\n",
              "      <th>Maximum_Installs</th>\n",
              "      <td>0.001736</td>\n",
              "      <td>0.001736</td>\n",
              "      <td>1.000000</td>\n",
              "      <td>0.980142</td>\n",
              "    </tr>\n",
              "    <tr>\n",
              "      <th>Minimum_Installs</th>\n",
              "      <td>0.001799</td>\n",
              "      <td>0.001799</td>\n",
              "      <td>0.980142</td>\n",
              "      <td>1.000000</td>\n",
              "    </tr>\n",
              "  </tbody>\n",
              "</table>\n",
              "</div>"
            ],
            "text/plain": [
              "                    Length     21_30  Maximum_Installs  Minimum_Installs\n",
              "Length            1.000000  1.000000          0.001736          0.001799\n",
              "21_30             1.000000  1.000000          0.001736          0.001799\n",
              "Maximum_Installs  0.001736  0.001736          1.000000          0.980142\n",
              "Minimum_Installs  0.001799  0.001799          0.980142          1.000000"
            ]
          },
          "metadata": {
            "tags": []
          },
          "execution_count": 39
        }
      ]
    },
    {
      "cell_type": "code",
      "metadata": {
        "id": "j8mrNLkpg6HF"
      },
      "source": [
        "import pandas as pd"
      ],
      "execution_count": null,
      "outputs": []
    },
    {
      "cell_type": "code",
      "metadata": {
        "colab": {
          "base_uri": "https://localhost:8080/",
          "height": 283
        },
        "id": "mkLYDTh4g8GU",
        "outputId": "c643f2fc-4175-4499-ff12-a6baa0266cc4"
      },
      "source": [
        "%matplotlib inline\n",
        "import matplotlib.pyplot as plt\n",
        "\n",
        "plt.plot(df_1_19[\"1_19\"], df_1_19[\"Maximum_Installs\"])"
      ],
      "execution_count": null,
      "outputs": [
        {
          "output_type": "execute_result",
          "data": {
            "text/plain": [
              "[<matplotlib.lines.Line2D at 0x7f96e3fb5c10>]"
            ]
          },
          "metadata": {
            "tags": []
          },
          "execution_count": 128
        },
        {
          "output_type": "display_data",
          "data": {
            "image/png": "[encoded data removed]",
            "text/plain": [
              "<Figure size 432x288 with 1 Axes>"
            ]
          },
          "metadata": {
            "tags": [],
            "needs_background": "light"
          }
        }
      ]
    },
    {
      "cell_type": "code",
      "metadata": {
        "colab": {
          "base_uri": "https://localhost:8080/",
          "height": 170
        },
        "id": "XOStl3EwYzY9",
        "outputId": "1e8238bf-9616-4bcd-c9be-e718e9572ec8"
      },
      "source": [
        "df_20_41.corr()"
      ],
      "execution_count": null,
      "outputs": [
        {
          "output_type": "execute_result",
          "data": {
            "text/html": [
              "<div>\n",
              "<style scoped>\n",
              "    .dataframe tbody tr th:only-of-type {\n",
              "        vertical-align: middle;\n",
              "    }\n",
              "\n",
              "    .dataframe tbody tr th {\n",
              "        vertical-align: top;\n",
              "    }\n",
              "\n",
              "    .dataframe thead th {\n",
              "        text-align: right;\n",
              "    }\n",
              "</style>\n",
              "<table border=\"1\" class=\"dataframe\">\n",
              "  <thead>\n",
              "    <tr style=\"text-align: right;\">\n",
              "      <th></th>\n",
              "      <th>Length</th>\n",
              "      <th>20_41</th>\n",
              "      <th>Maximum_Installs</th>\n",
              "      <th>Minimum_Installs</th>\n",
              "    </tr>\n",
              "  </thead>\n",
              "  <tbody>\n",
              "    <tr>\n",
              "      <th>Length</th>\n",
              "      <td>1.000000</td>\n",
              "      <td>1.000000</td>\n",
              "      <td>-0.007886</td>\n",
              "      <td>-0.007486</td>\n",
              "    </tr>\n",
              "    <tr>\n",
              "      <th>20_41</th>\n",
              "      <td>1.000000</td>\n",
              "      <td>1.000000</td>\n",
              "      <td>-0.007886</td>\n",
              "      <td>-0.007486</td>\n",
              "    </tr>\n",
              "    <tr>\n",
              "      <th>Maximum_Installs</th>\n",
              "      <td>-0.007886</td>\n",
              "      <td>-0.007886</td>\n",
              "      <td>1.000000</td>\n",
              "      <td>0.973711</td>\n",
              "    </tr>\n",
              "    <tr>\n",
              "      <th>Minimum_Installs</th>\n",
              "      <td>-0.007486</td>\n",
              "      <td>-0.007486</td>\n",
              "      <td>0.973711</td>\n",
              "      <td>1.000000</td>\n",
              "    </tr>\n",
              "  </tbody>\n",
              "</table>\n",
              "</div>"
            ],
            "text/plain": [
              "                    Length     20_41  Maximum_Installs  Minimum_Installs\n",
              "Length            1.000000  1.000000         -0.007886         -0.007486\n",
              "20_41             1.000000  1.000000         -0.007886         -0.007486\n",
              "Maximum_Installs -0.007886 -0.007886          1.000000          0.973711\n",
              "Minimum_Installs -0.007486 -0.007486          0.973711          1.000000"
            ]
          },
          "metadata": {
            "tags": []
          },
          "execution_count": 123
        }
      ]
    },
    {
      "cell_type": "code",
      "metadata": {
        "colab": {
          "base_uri": "https://localhost:8080/",
          "height": 170
        },
        "id": "74fndsviY37P",
        "outputId": "97f18c3a-4124-4e4f-926f-b642127625b0"
      },
      "source": [
        "df_42_50.corr()"
      ],
      "execution_count": null,
      "outputs": [
        {
          "output_type": "execute_result",
          "data": {
            "text/html": [
              "<div>\n",
              "<style scoped>\n",
              "    .dataframe tbody tr th:only-of-type {\n",
              "        vertical-align: middle;\n",
              "    }\n",
              "\n",
              "    .dataframe tbody tr th {\n",
              "        vertical-align: top;\n",
              "    }\n",
              "\n",
              "    .dataframe thead th {\n",
              "        text-align: right;\n",
              "    }\n",
              "</style>\n",
              "<table border=\"1\" class=\"dataframe\">\n",
              "  <thead>\n",
              "    <tr style=\"text-align: right;\">\n",
              "      <th></th>\n",
              "      <th>Length</th>\n",
              "      <th>42_50</th>\n",
              "      <th>Maximum_Installs</th>\n",
              "      <th>Minimum_Installs</th>\n",
              "    </tr>\n",
              "  </thead>\n",
              "  <tbody>\n",
              "    <tr>\n",
              "      <th>Length</th>\n",
              "      <td>1.000000</td>\n",
              "      <td>1.000000</td>\n",
              "      <td>0.014503</td>\n",
              "      <td>0.013911</td>\n",
              "    </tr>\n",
              "    <tr>\n",
              "      <th>42_50</th>\n",
              "      <td>1.000000</td>\n",
              "      <td>1.000000</td>\n",
              "      <td>0.014503</td>\n",
              "      <td>0.013911</td>\n",
              "    </tr>\n",
              "    <tr>\n",
              "      <th>Maximum_Installs</th>\n",
              "      <td>0.014503</td>\n",
              "      <td>0.014503</td>\n",
              "      <td>1.000000</td>\n",
              "      <td>0.936597</td>\n",
              "    </tr>\n",
              "    <tr>\n",
              "      <th>Minimum_Installs</th>\n",
              "      <td>0.013911</td>\n",
              "      <td>0.013911</td>\n",
              "      <td>0.936597</td>\n",
              "      <td>1.000000</td>\n",
              "    </tr>\n",
              "  </tbody>\n",
              "</table>\n",
              "</div>"
            ],
            "text/plain": [
              "                    Length     42_50  Maximum_Installs  Minimum_Installs\n",
              "Length            1.000000  1.000000          0.014503          0.013911\n",
              "42_50             1.000000  1.000000          0.014503          0.013911\n",
              "Maximum_Installs  0.014503  0.014503          1.000000          0.936597\n",
              "Minimum_Installs  0.013911  0.013911          0.936597          1.000000"
            ]
          },
          "metadata": {
            "tags": []
          },
          "execution_count": 124
        }
      ]
    },
    {
      "cell_type": "code",
      "metadata": {
        "colab": {
          "base_uri": "https://localhost:8080/",
          "height": 298
        },
        "id": "PUOO-qkmYKuD",
        "outputId": "886b29ec-0b54-4040-b959-f652508aee7b"
      },
      "source": [
        "sns.regplot(x=\"Maximum_Installs\", y=\"Length\", data=df_1_19)\n",
        "plt.ylim(0,)"
      ],
      "execution_count": null,
      "outputs": [
        {
          "output_type": "execute_result",
          "data": {
            "text/plain": [
              "(0.0, 19.9)"
            ]
          },
          "metadata": {
            "tags": []
          },
          "execution_count": 112
        },
        {
          "output_type": "display_data",
          "data": {
            "image/png": "[encoded data removed]",
            "text/plain": [
              "<Figure size 432x288 with 1 Axes>"
            ]
          },
          "metadata": {
            "tags": [],
            "needs_background": "light"
          }
        }
      ]
    },
    {
      "cell_type": "code",
      "metadata": {
        "colab": {
          "base_uri": "https://localhost:8080/",
          "height": 298
        },
        "id": "Rp43NsqhY9Mq",
        "outputId": "54bb7521-86ef-4a78-eca0-816a874b2ef6"
      },
      "source": [
        "sns.regplot(x=\"Maximum_Installs\", y=\"Length\", data=df_42_50)\n",
        "plt.ylim(0,)"
      ],
      "execution_count": null,
      "outputs": [
        {
          "output_type": "execute_result",
          "data": {
            "text/plain": [
              "(0.0, 52.71969018942917)"
            ]
          },
          "metadata": {
            "tags": []
          },
          "execution_count": 83
        },
        {
          "output_type": "display_data",
          "data": {
            "image/png": "[encoded data removed]",
            "text/plain": [
              "<Figure size 432x288 with 1 Axes>"
            ]
          },
          "metadata": {
            "tags": [],
            "needs_background": "light"
          }
        }
      ]
    },
    {
      "cell_type": "code",
      "metadata": {
        "colab": {
          "base_uri": "https://localhost:8080/",
          "height": 310
        },
        "id": "3PtkgmmjbYjL",
        "outputId": "56981229-c4bb-4c8d-f1d5-b8b1893f2bb2"
      },
      "source": [
        "df2.dropna(subset=['Words', '1_19', '20_41', '42_50', 'Space', 'Rating', 'Rating_Count', 'Minimum_Installs', \"Maximum_Installs\",\n",
        "                   'Price'], how='all').shape"
      ],
      "execution_count": null,
      "outputs": [
        {
          "output_type": "error",
          "ename": "KeyError",
          "evalue": "ignored",
          "traceback": [
            "\u001b[0;31m---------------------------------------------------------------------------\u001b[0m",
            "\u001b[0;31mKeyError\u001b[0m                                  Traceback (most recent call last)",
            "\u001b[0;32m<ipython-input-44-40ddc541879d>\u001b[0m in \u001b[0;36m<module>\u001b[0;34m()\u001b[0m\n\u001b[1;32m      1\u001b[0m df2.dropna(subset=['Words', '1_19', '20_41', '42_50', 'Space', 'Rating', 'Rating_Count', 'Minimum_Installs', \"Maximum_Installs\",\n\u001b[0;32m----> 2\u001b[0;31m                    'Price'], how='all').shape\n\u001b[0m",
            "\u001b[0;32m/usr/local/lib/python3.7/dist-packages/pandas/core/frame.py\u001b[0m in \u001b[0;36mdropna\u001b[0;34m(self, axis, how, thresh, subset, inplace)\u001b[0m\n\u001b[1;32m   5002\u001b[0m             \u001b[0mcheck\u001b[0m \u001b[0;34m=\u001b[0m \u001b[0mindices\u001b[0m \u001b[0;34m==\u001b[0m \u001b[0;34m-\u001b[0m\u001b[0;36m1\u001b[0m\u001b[0;34m\u001b[0m\u001b[0;34m\u001b[0m\u001b[0m\n\u001b[1;32m   5003\u001b[0m             \u001b[0;32mif\u001b[0m \u001b[0mcheck\u001b[0m\u001b[0;34m.\u001b[0m\u001b[0many\u001b[0m\u001b[0;34m(\u001b[0m\u001b[0;34m)\u001b[0m\u001b[0;34m:\u001b[0m\u001b[0;34m\u001b[0m\u001b[0;34m\u001b[0m\u001b[0m\n\u001b[0;32m-> 5004\u001b[0;31m                 \u001b[0;32mraise\u001b[0m \u001b[0mKeyError\u001b[0m\u001b[0;34m(\u001b[0m\u001b[0mlist\u001b[0m\u001b[0;34m(\u001b[0m\u001b[0mnp\u001b[0m\u001b[0;34m.\u001b[0m\u001b[0mcompress\u001b[0m\u001b[0;34m(\u001b[0m\u001b[0mcheck\u001b[0m\u001b[0;34m,\u001b[0m \u001b[0msubset\u001b[0m\u001b[0;34m)\u001b[0m\u001b[0;34m)\u001b[0m\u001b[0;34m)\u001b[0m\u001b[0;34m\u001b[0m\u001b[0;34m\u001b[0m\u001b[0m\n\u001b[0m\u001b[1;32m   5005\u001b[0m             \u001b[0magg_obj\u001b[0m \u001b[0;34m=\u001b[0m \u001b[0mself\u001b[0m\u001b[0;34m.\u001b[0m\u001b[0mtake\u001b[0m\u001b[0;34m(\u001b[0m\u001b[0mindices\u001b[0m\u001b[0;34m,\u001b[0m \u001b[0maxis\u001b[0m\u001b[0;34m=\u001b[0m\u001b[0magg_axis\u001b[0m\u001b[0;34m)\u001b[0m\u001b[0;34m\u001b[0m\u001b[0;34m\u001b[0m\u001b[0m\n\u001b[1;32m   5006\u001b[0m \u001b[0;34m\u001b[0m\u001b[0m\n",
            "\u001b[0;31mKeyError\u001b[0m: ['1_19', '20_41', '42_50']"
          ]
        }
      ]
    },
    {
      "cell_type": "code",
      "metadata": {
        "id": "4goRjeYlb3T5"
      },
      "source": [
        "df2.dropna(how='any', inplace=True)"
      ],
      "execution_count": null,
      "outputs": []
    },
    {
      "cell_type": "code",
      "metadata": {
        "colab": {
          "base_uri": "https://localhost:8080/"
        },
        "id": "ceXt3TPLbxI6",
        "outputId": "f596364c-6d18-48d1-961f-bebbfe84c4c4"
      },
      "source": [
        "df2.isnull().sum()"
      ],
      "execution_count": null,
      "outputs": [
        {
          "output_type": "execute_result",
          "data": {
            "text/plain": [
              "Length              0\n",
              "Words               0\n",
              "Space               0\n",
              "Rating              0\n",
              "Rating_Count        0\n",
              "Minimum_Installs    0\n",
              "Maximum_Installs    0\n",
              "Price               0\n",
              "dtype: int64"
            ]
          },
          "metadata": {
            "tags": []
          },
          "execution_count": 22
        }
      ]
    },
    {
      "cell_type": "code",
      "metadata": {
        "colab": {
          "base_uri": "https://localhost:8080/",
          "height": 315
        },
        "id": "6cfIeVZTenDw",
        "outputId": "5d52f6cf-094f-47c8-d3ea-489fc7a3b7bb"
      },
      "source": [
        "df2.drop(\"#NAME?\", axis=1, inplace=True)"
      ],
      "execution_count": null,
      "outputs": [
        {
          "output_type": "error",
          "ename": "KeyError",
          "evalue": "ignored",
          "traceback": [
            "\u001b[0;31m---------------------------------------------------------------------------\u001b[0m",
            "\u001b[0;31mKeyError\u001b[0m                                  Traceback (most recent call last)",
            "\u001b[0;32m<ipython-input-23-8dddb5e8af30>\u001b[0m in \u001b[0;36m<module>\u001b[0;34m()\u001b[0m\n\u001b[0;32m----> 1\u001b[0;31m \u001b[0mdf2\u001b[0m\u001b[0;34m.\u001b[0m\u001b[0mdrop\u001b[0m\u001b[0;34m(\u001b[0m\u001b[0;34m\"#NAME?\"\u001b[0m\u001b[0;34m,\u001b[0m \u001b[0maxis\u001b[0m\u001b[0;34m=\u001b[0m\u001b[0;36m1\u001b[0m\u001b[0;34m,\u001b[0m \u001b[0minplace\u001b[0m\u001b[0;34m=\u001b[0m\u001b[0;32mTrue\u001b[0m\u001b[0;34m)\u001b[0m\u001b[0;34m\u001b[0m\u001b[0;34m\u001b[0m\u001b[0m\n\u001b[0m",
            "\u001b[0;32m/usr/local/lib/python3.7/dist-packages/pandas/core/frame.py\u001b[0m in \u001b[0;36mdrop\u001b[0;34m(self, labels, axis, index, columns, level, inplace, errors)\u001b[0m\n\u001b[1;32m   4172\u001b[0m             \u001b[0mlevel\u001b[0m\u001b[0;34m=\u001b[0m\u001b[0mlevel\u001b[0m\u001b[0;34m,\u001b[0m\u001b[0;34m\u001b[0m\u001b[0;34m\u001b[0m\u001b[0m\n\u001b[1;32m   4173\u001b[0m             \u001b[0minplace\u001b[0m\u001b[0;34m=\u001b[0m\u001b[0minplace\u001b[0m\u001b[0;34m,\u001b[0m\u001b[0;34m\u001b[0m\u001b[0;34m\u001b[0m\u001b[0m\n\u001b[0;32m-> 4174\u001b[0;31m             \u001b[0merrors\u001b[0m\u001b[0;34m=\u001b[0m\u001b[0merrors\u001b[0m\u001b[0;34m,\u001b[0m\u001b[0;34m\u001b[0m\u001b[0;34m\u001b[0m\u001b[0m\n\u001b[0m\u001b[1;32m   4175\u001b[0m         )\n\u001b[1;32m   4176\u001b[0m \u001b[0;34m\u001b[0m\u001b[0m\n",
            "\u001b[0;32m/usr/local/lib/python3.7/dist-packages/pandas/core/generic.py\u001b[0m in \u001b[0;36mdrop\u001b[0;34m(self, labels, axis, index, columns, level, inplace, errors)\u001b[0m\n\u001b[1;32m   3887\u001b[0m         \u001b[0;32mfor\u001b[0m \u001b[0maxis\u001b[0m\u001b[0;34m,\u001b[0m \u001b[0mlabels\u001b[0m \u001b[0;32min\u001b[0m \u001b[0maxes\u001b[0m\u001b[0;34m.\u001b[0m\u001b[0mitems\u001b[0m\u001b[0;34m(\u001b[0m\u001b[0;34m)\u001b[0m\u001b[0;34m:\u001b[0m\u001b[0;34m\u001b[0m\u001b[0;34m\u001b[0m\u001b[0m\n\u001b[1;32m   3888\u001b[0m             \u001b[0;32mif\u001b[0m \u001b[0mlabels\u001b[0m \u001b[0;32mis\u001b[0m \u001b[0;32mnot\u001b[0m \u001b[0;32mNone\u001b[0m\u001b[0;34m:\u001b[0m\u001b[0;34m\u001b[0m\u001b[0;34m\u001b[0m\u001b[0m\n\u001b[0;32m-> 3889\u001b[0;31m                 \u001b[0mobj\u001b[0m \u001b[0;34m=\u001b[0m \u001b[0mobj\u001b[0m\u001b[0;34m.\u001b[0m\u001b[0m_drop_axis\u001b[0m\u001b[0;34m(\u001b[0m\u001b[0mlabels\u001b[0m\u001b[0;34m,\u001b[0m \u001b[0maxis\u001b[0m\u001b[0;34m,\u001b[0m \u001b[0mlevel\u001b[0m\u001b[0;34m=\u001b[0m\u001b[0mlevel\u001b[0m\u001b[0;34m,\u001b[0m \u001b[0merrors\u001b[0m\u001b[0;34m=\u001b[0m\u001b[0merrors\u001b[0m\u001b[0;34m)\u001b[0m\u001b[0;34m\u001b[0m\u001b[0;34m\u001b[0m\u001b[0m\n\u001b[0m\u001b[1;32m   3890\u001b[0m \u001b[0;34m\u001b[0m\u001b[0m\n\u001b[1;32m   3891\u001b[0m         \u001b[0;32mif\u001b[0m \u001b[0minplace\u001b[0m\u001b[0;34m:\u001b[0m\u001b[0;34m\u001b[0m\u001b[0;34m\u001b[0m\u001b[0m\n",
            "\u001b[0;32m/usr/local/lib/python3.7/dist-packages/pandas/core/generic.py\u001b[0m in \u001b[0;36m_drop_axis\u001b[0;34m(self, labels, axis, level, errors)\u001b[0m\n\u001b[1;32m   3921\u001b[0m                 \u001b[0mnew_axis\u001b[0m \u001b[0;34m=\u001b[0m \u001b[0maxis\u001b[0m\u001b[0;34m.\u001b[0m\u001b[0mdrop\u001b[0m\u001b[0;34m(\u001b[0m\u001b[0mlabels\u001b[0m\u001b[0;34m,\u001b[0m \u001b[0mlevel\u001b[0m\u001b[0;34m=\u001b[0m\u001b[0mlevel\u001b[0m\u001b[0;34m,\u001b[0m \u001b[0merrors\u001b[0m\u001b[0;34m=\u001b[0m\u001b[0merrors\u001b[0m\u001b[0;34m)\u001b[0m\u001b[0;34m\u001b[0m\u001b[0;34m\u001b[0m\u001b[0m\n\u001b[1;32m   3922\u001b[0m             \u001b[0;32melse\u001b[0m\u001b[0;34m:\u001b[0m\u001b[0;34m\u001b[0m\u001b[0;34m\u001b[0m\u001b[0m\n\u001b[0;32m-> 3923\u001b[0;31m                 \u001b[0mnew_axis\u001b[0m \u001b[0;34m=\u001b[0m \u001b[0maxis\u001b[0m\u001b[0;34m.\u001b[0m\u001b[0mdrop\u001b[0m\u001b[0;34m(\u001b[0m\u001b[0mlabels\u001b[0m\u001b[0;34m,\u001b[0m \u001b[0merrors\u001b[0m\u001b[0;34m=\u001b[0m\u001b[0merrors\u001b[0m\u001b[0;34m)\u001b[0m\u001b[0;34m\u001b[0m\u001b[0;34m\u001b[0m\u001b[0m\n\u001b[0m\u001b[1;32m   3924\u001b[0m             \u001b[0mresult\u001b[0m \u001b[0;34m=\u001b[0m \u001b[0mself\u001b[0m\u001b[0;34m.\u001b[0m\u001b[0mreindex\u001b[0m\u001b[0;34m(\u001b[0m\u001b[0;34m**\u001b[0m\u001b[0;34m{\u001b[0m\u001b[0maxis_name\u001b[0m\u001b[0;34m:\u001b[0m \u001b[0mnew_axis\u001b[0m\u001b[0;34m}\u001b[0m\u001b[0;34m)\u001b[0m\u001b[0;34m\u001b[0m\u001b[0;34m\u001b[0m\u001b[0m\n\u001b[1;32m   3925\u001b[0m \u001b[0;34m\u001b[0m\u001b[0m\n",
            "\u001b[0;32m/usr/local/lib/python3.7/dist-packages/pandas/core/indexes/base.py\u001b[0m in \u001b[0;36mdrop\u001b[0;34m(self, labels, errors)\u001b[0m\n\u001b[1;32m   5285\u001b[0m         \u001b[0;32mif\u001b[0m \u001b[0mmask\u001b[0m\u001b[0;34m.\u001b[0m\u001b[0many\u001b[0m\u001b[0;34m(\u001b[0m\u001b[0;34m)\u001b[0m\u001b[0;34m:\u001b[0m\u001b[0;34m\u001b[0m\u001b[0;34m\u001b[0m\u001b[0m\n\u001b[1;32m   5286\u001b[0m             \u001b[0;32mif\u001b[0m \u001b[0merrors\u001b[0m \u001b[0;34m!=\u001b[0m \u001b[0;34m\"ignore\"\u001b[0m\u001b[0;34m:\u001b[0m\u001b[0;34m\u001b[0m\u001b[0;34m\u001b[0m\u001b[0m\n\u001b[0;32m-> 5287\u001b[0;31m                 \u001b[0;32mraise\u001b[0m \u001b[0mKeyError\u001b[0m\u001b[0;34m(\u001b[0m\u001b[0;34mf\"{labels[mask]} not found in axis\"\u001b[0m\u001b[0;34m)\u001b[0m\u001b[0;34m\u001b[0m\u001b[0;34m\u001b[0m\u001b[0m\n\u001b[0m\u001b[1;32m   5288\u001b[0m             \u001b[0mindexer\u001b[0m \u001b[0;34m=\u001b[0m \u001b[0mindexer\u001b[0m\u001b[0;34m[\u001b[0m\u001b[0;34m~\u001b[0m\u001b[0mmask\u001b[0m\u001b[0;34m]\u001b[0m\u001b[0;34m\u001b[0m\u001b[0;34m\u001b[0m\u001b[0m\n\u001b[1;32m   5289\u001b[0m         \u001b[0;32mreturn\u001b[0m \u001b[0mself\u001b[0m\u001b[0;34m.\u001b[0m\u001b[0mdelete\u001b[0m\u001b[0;34m(\u001b[0m\u001b[0mindexer\u001b[0m\u001b[0;34m)\u001b[0m\u001b[0;34m\u001b[0m\u001b[0;34m\u001b[0m\u001b[0m\n",
            "\u001b[0;31mKeyError\u001b[0m: \"['#NAME?'] not found in axis\""
          ]
        }
      ]
    },
    {
      "cell_type": "code",
      "metadata": {
        "colab": {
          "base_uri": "https://localhost:8080/",
          "height": 200
        },
        "id": "roXyrscIZHN0",
        "outputId": "3f34ace2-5310-42c2-cfc7-71de1da67620"
      },
      "source": [
        "df2.head()"
      ],
      "execution_count": null,
      "outputs": [
        {
          "output_type": "execute_result",
          "data": {
            "text/html": [
              "<div>\n",
              "<style scoped>\n",
              "    .dataframe tbody tr th:only-of-type {\n",
              "        vertical-align: middle;\n",
              "    }\n",
              "\n",
              "    .dataframe tbody tr th {\n",
              "        vertical-align: top;\n",
              "    }\n",
              "\n",
              "    .dataframe thead th {\n",
              "        text-align: right;\n",
              "    }\n",
              "</style>\n",
              "<table border=\"1\" class=\"dataframe\">\n",
              "  <thead>\n",
              "    <tr style=\"text-align: right;\">\n",
              "      <th></th>\n",
              "      <th>Length</th>\n",
              "      <th>Words</th>\n",
              "      <th>Space</th>\n",
              "      <th>Rating</th>\n",
              "      <th>Rating_Count</th>\n",
              "      <th>Minimum_Installs</th>\n",
              "      <th>Maximum_Installs</th>\n",
              "      <th>Price</th>\n",
              "    </tr>\n",
              "  </thead>\n",
              "  <tbody>\n",
              "    <tr>\n",
              "      <th>0</th>\n",
              "      <td>22</td>\n",
              "      <td>2</td>\n",
              "      <td>2</td>\n",
              "      <td>3.6</td>\n",
              "      <td>2848.0</td>\n",
              "      <td>100000.0</td>\n",
              "      <td>351560</td>\n",
              "      <td>0.0</td>\n",
              "    </tr>\n",
              "    <tr>\n",
              "      <th>1</th>\n",
              "      <td>29</td>\n",
              "      <td>4</td>\n",
              "      <td>4</td>\n",
              "      <td>4.3</td>\n",
              "      <td>17297.0</td>\n",
              "      <td>1000000.0</td>\n",
              "      <td>2161778</td>\n",
              "      <td>0.0</td>\n",
              "    </tr>\n",
              "    <tr>\n",
              "      <th>2</th>\n",
              "      <td>6</td>\n",
              "      <td>0</td>\n",
              "      <td>0</td>\n",
              "      <td>4.2</td>\n",
              "      <td>488639.0</td>\n",
              "      <td>50000000.0</td>\n",
              "      <td>79304739</td>\n",
              "      <td>0.0</td>\n",
              "    </tr>\n",
              "    <tr>\n",
              "      <th>3</th>\n",
              "      <td>50</td>\n",
              "      <td>6</td>\n",
              "      <td>6</td>\n",
              "      <td>4.2</td>\n",
              "      <td>1224420.0</td>\n",
              "      <td>100000000.0</td>\n",
              "      <td>163660067</td>\n",
              "      <td>0.0</td>\n",
              "    </tr>\n",
              "    <tr>\n",
              "      <th>4</th>\n",
              "      <td>16</td>\n",
              "      <td>2</td>\n",
              "      <td>2</td>\n",
              "      <td>4.2</td>\n",
              "      <td>665.0</td>\n",
              "      <td>50000.0</td>\n",
              "      <td>73463</td>\n",
              "      <td>0.0</td>\n",
              "    </tr>\n",
              "  </tbody>\n",
              "</table>\n",
              "</div>"
            ],
            "text/plain": [
              "   Length Words  Space  ...  Minimum_Installs  Maximum_Installs  Price\n",
              "0      22     2      2  ...          100000.0            351560    0.0\n",
              "1      29     4      4  ...         1000000.0           2161778    0.0\n",
              "2       6     0      0  ...        50000000.0          79304739    0.0\n",
              "3      50     6      6  ...       100000000.0         163660067    0.0\n",
              "4      16     2      2  ...           50000.0             73463    0.0\n",
              "\n",
              "[5 rows x 8 columns]"
            ]
          },
          "metadata": {
            "tags": []
          },
          "execution_count": 24
        }
      ]
    }
  ]
}